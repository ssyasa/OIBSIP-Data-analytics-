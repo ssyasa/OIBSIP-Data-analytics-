{
 "cells": [
  {
   "cell_type": "markdown",
   "id": "49e9a1b7",
   "metadata": {
    "papermill": {
     "duration": 0.018504,
     "end_time": "2022-09-09T20:31:54.365310",
     "exception": false,
     "start_time": "2022-09-09T20:31:54.346806",
     "status": "completed"
    },
    "tags": []
   },
   "source": [
    "#### Thanks for showing interest to check out my code workbook. If you find this code blocks helpful, please **upvote** the same so that it can help others. Feel free to share your thoughts in comment section. You can also explore my other workbooks and follow me for more exciting contents. Happy Coding !!!"
   ]
  },
  {
   "cell_type": "markdown",
   "id": "eb23650b",
   "metadata": {
    "papermill": {
     "duration": 0.016369,
     "end_time": "2022-09-09T20:31:54.398524",
     "exception": false,
     "start_time": "2022-09-09T20:31:54.382155",
     "status": "completed"
    },
    "tags": []
   },
   "source": [
    "## **Executive Summary :**\n"
   ]
  },
  {
   "cell_type": "markdown",
   "id": "b220e9f7",
   "metadata": {
    "papermill": {
     "duration": 0.016775,
     "end_time": "2022-09-09T20:31:54.431748",
     "exception": false,
     "start_time": "2022-09-09T20:31:54.414973",
     "status": "completed"
    },
    "tags": []
   },
   "source": [
    "#### 1. Topic of Implementation : Sentiment Analysis using Deep Learning\n",
    "#### 2. DL Model Used : LSTM\n",
    "#### 3. Accuracy : **86%**\n",
    "#### 4. Operations Perfomed : Basic EDA, Data pre-processing, Model Creation, Parameter Tuning and Prediction"
   ]
  },
  {
   "cell_type": "markdown",
   "id": "adcbcb15",
   "metadata": {
    "papermill": {
     "duration": 0.017054,
     "end_time": "2022-09-09T20:31:54.465622",
     "exception": false,
     "start_time": "2022-09-09T20:31:54.448568",
     "status": "completed"
    },
    "tags": []
   },
   "source": [
    "## **Introduction:**"
   ]
  },
  {
   "cell_type": "markdown",
   "id": "6cecf724",
   "metadata": {
    "papermill": {
     "duration": 0.0172,
     "end_time": "2022-09-09T20:31:54.500456",
     "exception": false,
     "start_time": "2022-09-09T20:31:54.483256",
     "status": "completed"
    },
    "tags": []
   },
   "source": [
    "**Sentiment Analysis** is one of the most used applications of data science in Real-World Analysis. As the whole world is dependent on Social Media, user opinion and explanation can help us to understand their sentiments and intentions.\n",
    "\n",
    "\n",
    "In this workbook, I have taken a dataset from Twitter and tried my level best to explain you all the sentiments of users through multiple modelling and deep lerarning techniques.\n",
    "\n",
    "![](https://monkeylearn.com/static/4e1ff4632ce1a1426c4095fb190d6db2/Learn-How-to-Do-Sentiment-With-Deep-Learning-Thumbnail-02.png)\n",
    "\n",
    "\n",
    "Data has been taken from [here](https://www.kaggle.com/datasets/saurabhshahane/twitter-sentiment-dataset)"
   ]
  },
  {
   "cell_type": "markdown",
   "id": "106e7f28",
   "metadata": {
    "papermill": {
     "duration": 0.016958,
     "end_time": "2022-09-09T20:31:54.534362",
     "exception": false,
     "start_time": "2022-09-09T20:31:54.517404",
     "status": "completed"
    },
    "tags": []
   },
   "source": [
    "## **Code for Customization :**"
   ]
  },
  {
   "cell_type": "code",
   "execution_count": 1,
   "id": "8e242e3c",
   "metadata": {
    "execution": {
     "iopub.execute_input": "2022-09-09T20:31:54.571881Z",
     "iopub.status.busy": "2022-09-09T20:31:54.571214Z",
     "iopub.status.idle": "2022-09-09T20:31:54.586701Z",
     "shell.execute_reply": "2022-09-09T20:31:54.585388Z"
    },
    "papermill": {
     "duration": 0.037299,
     "end_time": "2022-09-09T20:31:54.589207",
     "exception": false,
     "start_time": "2022-09-09T20:31:54.551908",
     "status": "completed"
    },
    "tags": []
   },
   "outputs": [
    {
     "data": {
      "text/html": [
       "\n",
       "<style>\n",
       ".output_png {\n",
       "    display: table-cell;\n",
       "    text-align: center;\n",
       "    vertical-align: middle;\n",
       "    horizontal-align: middle;\n",
       "}\n",
       "h1,h2 {\n",
       "    text-align: center;\n",
       "    background-color: pink;\n",
       "    padding: 20px;\n",
       "    margin: 0;\n",
       "    color: black;\n",
       "    font-family: ariel;\n",
       "    border-radius: 80px\n",
       "}\n",
       "\n",
       "h3 {\n",
       "    text-align: center;\n",
       "    border-style: solid;\n",
       "    border-width: 3px;\n",
       "    padding: 12px;\n",
       "    margin: 0;\n",
       "    color: black;\n",
       "    font-family: ariel;\n",
       "    border-radius: 80px;\n",
       "    border-color: gold;\n",
       "}\n",
       "\n",
       "body, p {\n",
       "    font-family: ariel;\n",
       "    font-size: 15px;\n",
       "    color: charcoal;\n",
       "}\n",
       "div {\n",
       "    font-size: 14px;\n",
       "    margin: 0;\n",
       "\n",
       "}\n",
       "\n",
       "h4 {\n",
       "    padding: 0px;\n",
       "    margin: 0;\n",
       "    font-family: ariel;\n",
       "    color: purple;\n",
       "}\n",
       "</style>\n"
      ],
      "text/plain": [
       "<IPython.core.display.HTML object>"
      ]
     },
     "execution_count": 1,
     "metadata": {},
     "output_type": "execute_result"
    }
   ],
   "source": [
    "from IPython.core.display import HTML\n",
    "HTML(\"\"\"\n",
    "<style>\n",
    ".output_png {\n",
    "    display: table-cell;\n",
    "    text-align: center;\n",
    "    vertical-align: middle;\n",
    "    horizontal-align: middle;\n",
    "}\n",
    "h1,h2 {\n",
    "    text-align: center;\n",
    "    background-color: pink;\n",
    "    padding: 20px;\n",
    "    margin: 0;\n",
    "    color: black;\n",
    "    font-family: ariel;\n",
    "    border-radius: 80px\n",
    "}\n",
    "\n",
    "h3 {\n",
    "    text-align: center;\n",
    "    border-style: solid;\n",
    "    border-width: 3px;\n",
    "    padding: 12px;\n",
    "    margin: 0;\n",
    "    color: black;\n",
    "    font-family: ariel;\n",
    "    border-radius: 80px;\n",
    "    border-color: gold;\n",
    "}\n",
    "\n",
    "body, p {\n",
    "    font-family: ariel;\n",
    "    font-size: 15px;\n",
    "    color: charcoal;\n",
    "}\n",
    "div {\n",
    "    font-size: 14px;\n",
    "    margin: 0;\n",
    "\n",
    "}\n",
    "\n",
    "h4 {\n",
    "    padding: 0px;\n",
    "    margin: 0;\n",
    "    font-family: ariel;\n",
    "    color: purple;\n",
    "}\n",
    "</style>\n",
    "\"\"\")"
   ]
  },
  {
   "cell_type": "markdown",
   "id": "3401cea7",
   "metadata": {
    "papermill": {
     "duration": 0.016346,
     "end_time": "2022-09-09T20:31:54.622371",
     "exception": false,
     "start_time": "2022-09-09T20:31:54.606025",
     "status": "completed"
    },
    "tags": []
   },
   "source": [
    "## **Contents of the Workbook :**"
   ]
  },
  {
   "cell_type": "markdown",
   "id": "4defa3f8",
   "metadata": {
    "papermill": {
     "duration": 0.018035,
     "end_time": "2022-09-09T20:31:54.657545",
     "exception": false,
     "start_time": "2022-09-09T20:31:54.639510",
     "status": "completed"
    },
    "tags": []
   },
   "source": [
    "#### Step - 1: Importing Necesaary Libraries and Datasets\n",
    "#### Step - 2: Data Pre-processing\n",
    "#### Step - 3: Word Cloud Analysis\n",
    "#### Step - 4: Word2Vec Analysis\n",
    "#### Step - 5: Sentiment Analysis using Deep-Learning Model\n",
    "#### Step - 6: Comparing ML Models\n"
   ]
  },
  {
   "cell_type": "markdown",
   "id": "2e94617a",
   "metadata": {
    "papermill": {
     "duration": 0.016264,
     "end_time": "2022-09-09T20:31:54.691154",
     "exception": false,
     "start_time": "2022-09-09T20:31:54.674890",
     "status": "completed"
    },
    "tags": []
   },
   "source": [
    "## **Step - 1 :** *Importing Necesaary Libraries and Datasets*"
   ]
  },
  {
   "cell_type": "markdown",
   "id": "7d1632e1",
   "metadata": {
    "papermill": {
     "duration": 0.015849,
     "end_time": "2022-09-09T20:31:54.723504",
     "exception": false,
     "start_time": "2022-09-09T20:31:54.707655",
     "status": "completed"
    },
    "tags": []
   },
   "source": [
    "### **Step - 1.1 :** *Importing Necesaary Packages & Libraries*"
   ]
  },
  {
   "cell_type": "code",
   "execution_count": 2,
   "id": "27579e5c",
   "metadata": {
    "execution": {
     "iopub.execute_input": "2022-09-09T20:31:54.759208Z",
     "iopub.status.busy": "2022-09-09T20:31:54.758609Z",
     "iopub.status.idle": "2022-09-09T20:31:54.761575Z",
     "shell.execute_reply": "2022-09-09T20:31:54.761051Z"
    },
    "papermill": {
     "duration": 0.023928,
     "end_time": "2022-09-09T20:31:54.763659",
     "exception": false,
     "start_time": "2022-09-09T20:31:54.739731",
     "status": "completed"
    },
    "tags": []
   },
   "outputs": [],
   "source": [
    "# !pip install gensim --upgrade\n",
    "# !pip install keras --upgrade\n",
    "# !pip install pandas --upgrade"
   ]
  },
  {
   "cell_type": "code",
   "execution_count": 3,
   "id": "55ae76de",
   "metadata": {
    "execution": {
     "iopub.execute_input": "2022-09-09T20:31:54.799040Z",
     "iopub.status.busy": "2022-09-09T20:31:54.798685Z",
     "iopub.status.idle": "2022-09-09T20:32:04.322971Z",
     "shell.execute_reply": "2022-09-09T20:32:04.321546Z"
    },
    "papermill": {
     "duration": 9.544983,
     "end_time": "2022-09-09T20:32:04.325543",
     "exception": false,
     "start_time": "2022-09-09T20:31:54.780560",
     "status": "completed"
    },
    "tags": []
   },
   "outputs": [
    {
     "name": "stderr",
     "output_type": "stream",
     "text": [
      "[nltk_data] Downloading package stopwords to /usr/share/nltk_data...\n",
      "[nltk_data]   Package stopwords is already up-to-date!\n",
      "[nltk_data] Downloading package punkt to /usr/share/nltk_data...\n",
      "[nltk_data]   Package punkt is already up-to-date!\n",
      "[nltk_data] Downloading package averaged_perceptron_tagger to\n",
      "[nltk_data]     /usr/share/nltk_data...\n",
      "[nltk_data]   Package averaged_perceptron_tagger is already up-to-\n",
      "[nltk_data]       date!\n",
      "[nltk_data] Downloading package wordnet to /usr/share/nltk_data...\n",
      "[nltk_data]   Package wordnet is already up-to-date!\n",
      "[nltk_data] Downloading package omw-1.4 to /usr/share/nltk_data...\n"
     ]
    }
   ],
   "source": [
    "# DataFrame\n",
    "import pandas as pd\n",
    "\n",
    "# Matplot\n",
    "import matplotlib.pyplot as plt\n",
    "%matplotlib inline\n",
    "\n",
    "from matplotlib.ticker import MaxNLocator\n",
    "import matplotlib.gridspec as gridspec\n",
    "import matplotlib.patches as mpatches\n",
    "\n",
    "# Scikit-learn\n",
    "from sklearn.model_selection import train_test_split\n",
    "from sklearn.preprocessing import LabelEncoder\n",
    "from sklearn.metrics import confusion_matrix, classification_report, accuracy_score\n",
    "from sklearn.manifold import TSNE\n",
    "from sklearn.feature_extraction.text import CountVectorizer, TfidfVectorizer\n",
    "from sklearn.decomposition import LatentDirichletAllocation, NMF\n",
    "from sklearn.metrics import f1_score, accuracy_score\n",
    "\n",
    "\n",
    "# Keras\n",
    "from keras.preprocessing.text import Tokenizer\n",
    "from keras.preprocessing.sequence import pad_sequences\n",
    "from keras.models import Sequential\n",
    "from keras.layers import Activation, Dense, Dropout, Embedding, Flatten, Conv1D, MaxPooling1D, LSTM\n",
    "from keras import utils\n",
    "from keras.callbacks import ReduceLROnPlateau, EarlyStopping\n",
    "\n",
    "# nltk\n",
    "from nltk.corpus import stopwords\n",
    "from nltk.stem import SnowballStemmer\n",
    "import nltk\n",
    "nltk.download('stopwords')\n",
    "nltk.download('punkt')\n",
    "nltk.download('averaged_perceptron_tagger')\n",
    "nltk.download('wordnet')\n",
    "from nltk.corpus import stopwords, wordnet\n",
    "from nltk.stem import WordNetLemmatizer\n",
    "from nltk.tokenize import word_tokenize\n",
    "from nltk.probability import FreqDist\n",
    "import nltk\n",
    "nltk.download('omw-1.4')\n",
    "\n",
    "# Word2vec\n",
    "import gensim\n",
    "from gensim.test.utils import common_texts\n",
    "from gensim.models import Word2Vec\n",
    "\n",
    "\n",
    "# Utility\n",
    "import string\n",
    "import re\n",
    "import numpy as np\n",
    "import os\n",
    "from collections import Counter\n",
    "import logging\n",
    "import time\n",
    "import pickle\n",
    "import itertools\n",
    "import random\n",
    "import datetime\n",
    "\n",
    "# WordCloud\n",
    "from PIL import Image\n",
    "from wordcloud import WordCloud, STOPWORDS, ImageColorGenerator\n",
    "from collections import Counter, defaultdict\n",
    "\n",
    "# Warnings\n",
    "import warnings \n",
    "warnings.filterwarnings('ignore')\n",
    "\n",
    "# Set log\n",
    "logging.basicConfig(format='%(asctime)s : %(levelname)s : %(message)s', level=logging.INFO)\n"
   ]
  },
  {
   "cell_type": "markdown",
   "id": "8b0e38eb",
   "metadata": {
    "papermill": {
     "duration": 0.016933,
     "end_time": "2022-09-09T20:32:04.359887",
     "exception": false,
     "start_time": "2022-09-09T20:32:04.342954",
     "status": "completed"
    },
    "tags": []
   },
   "source": [
    "### **Step - 1.2 :** *Importing Dataset*"
   ]
  },
  {
   "cell_type": "code",
   "execution_count": 4,
   "id": "821c4a6a",
   "metadata": {
    "execution": {
     "iopub.execute_input": "2022-09-09T20:32:04.396283Z",
     "iopub.status.busy": "2022-09-09T20:32:04.395702Z",
     "iopub.status.idle": "2022-09-09T20:32:05.009269Z",
     "shell.execute_reply": "2022-09-09T20:32:05.007911Z"
    },
    "papermill": {
     "duration": 0.634912,
     "end_time": "2022-09-09T20:32:05.011856",
     "exception": false,
     "start_time": "2022-09-09T20:32:04.376944",
     "status": "completed"
    },
    "tags": []
   },
   "outputs": [],
   "source": [
    "df = pd.read_csv(\"../input/twitter-sentiment-dataset/Twitter_Data.csv\")\n",
    "df1 = df"
   ]
  },
  {
   "cell_type": "code",
   "execution_count": 5,
   "id": "27d43fbc",
   "metadata": {
    "execution": {
     "iopub.execute_input": "2022-09-09T20:32:05.047469Z",
     "iopub.status.busy": "2022-09-09T20:32:05.047092Z",
     "iopub.status.idle": "2022-09-09T20:32:05.068919Z",
     "shell.execute_reply": "2022-09-09T20:32:05.067617Z"
    },
    "papermill": {
     "duration": 0.042802,
     "end_time": "2022-09-09T20:32:05.071535",
     "exception": false,
     "start_time": "2022-09-09T20:32:05.028733",
     "status": "completed"
    },
    "tags": []
   },
   "outputs": [
    {
     "data": {
      "text/html": [
       "<div>\n",
       "<style scoped>\n",
       "    .dataframe tbody tr th:only-of-type {\n",
       "        vertical-align: middle;\n",
       "    }\n",
       "\n",
       "    .dataframe tbody tr th {\n",
       "        vertical-align: top;\n",
       "    }\n",
       "\n",
       "    .dataframe thead th {\n",
       "        text-align: right;\n",
       "    }\n",
       "</style>\n",
       "<table border=\"1\" class=\"dataframe\">\n",
       "  <thead>\n",
       "    <tr style=\"text-align: right;\">\n",
       "      <th></th>\n",
       "      <th>clean_text</th>\n",
       "      <th>category</th>\n",
       "    </tr>\n",
       "  </thead>\n",
       "  <tbody>\n",
       "    <tr>\n",
       "      <th>0</th>\n",
       "      <td>when modi promised “minimum government maximum...</td>\n",
       "      <td>-1.0</td>\n",
       "    </tr>\n",
       "    <tr>\n",
       "      <th>1</th>\n",
       "      <td>talk all the nonsense and continue all the dra...</td>\n",
       "      <td>0.0</td>\n",
       "    </tr>\n",
       "    <tr>\n",
       "      <th>2</th>\n",
       "      <td>what did just say vote for modi  welcome bjp t...</td>\n",
       "      <td>1.0</td>\n",
       "    </tr>\n",
       "    <tr>\n",
       "      <th>3</th>\n",
       "      <td>asking his supporters prefix chowkidar their n...</td>\n",
       "      <td>1.0</td>\n",
       "    </tr>\n",
       "    <tr>\n",
       "      <th>4</th>\n",
       "      <td>answer who among these the most powerful world...</td>\n",
       "      <td>1.0</td>\n",
       "    </tr>\n",
       "  </tbody>\n",
       "</table>\n",
       "</div>"
      ],
      "text/plain": [
       "                                          clean_text  category\n",
       "0  when modi promised “minimum government maximum...      -1.0\n",
       "1  talk all the nonsense and continue all the dra...       0.0\n",
       "2  what did just say vote for modi  welcome bjp t...       1.0\n",
       "3  asking his supporters prefix chowkidar their n...       1.0\n",
       "4  answer who among these the most powerful world...       1.0"
      ]
     },
     "execution_count": 5,
     "metadata": {},
     "output_type": "execute_result"
    }
   ],
   "source": [
    "df.head(5)"
   ]
  },
  {
   "cell_type": "code",
   "execution_count": 6,
   "id": "62c4b3c6",
   "metadata": {
    "execution": {
     "iopub.execute_input": "2022-09-09T20:32:05.107916Z",
     "iopub.status.busy": "2022-09-09T20:32:05.107563Z",
     "iopub.status.idle": "2022-09-09T20:32:05.126328Z",
     "shell.execute_reply": "2022-09-09T20:32:05.125123Z"
    },
    "papermill": {
     "duration": 0.039882,
     "end_time": "2022-09-09T20:32:05.128464",
     "exception": false,
     "start_time": "2022-09-09T20:32:05.088582",
     "status": "completed"
    },
    "tags": []
   },
   "outputs": [],
   "source": [
    "df = df[df.category != 0.0]"
   ]
  },
  {
   "cell_type": "markdown",
   "id": "b2ffb996",
   "metadata": {
    "papermill": {
     "duration": 0.015961,
     "end_time": "2022-09-09T20:32:05.160948",
     "exception": false,
     "start_time": "2022-09-09T20:32:05.144987",
     "status": "completed"
    },
    "tags": []
   },
   "source": [
    "**Note:** I have removed neutral comments as I wanted to perform analysis specific to Negative and Positive sentiments"
   ]
  },
  {
   "cell_type": "code",
   "execution_count": 7,
   "id": "aa70c3f4",
   "metadata": {
    "execution": {
     "iopub.execute_input": "2022-09-09T20:32:05.196504Z",
     "iopub.status.busy": "2022-09-09T20:32:05.195958Z",
     "iopub.status.idle": "2022-09-09T20:32:05.293474Z",
     "shell.execute_reply": "2022-09-09T20:32:05.292633Z"
    },
    "papermill": {
     "duration": 0.119022,
     "end_time": "2022-09-09T20:32:05.296627",
     "exception": false,
     "start_time": "2022-09-09T20:32:05.177605",
     "status": "completed"
    },
    "tags": []
   },
   "outputs": [
    {
     "name": "stdout",
     "output_type": "stream",
     "text": [
      "<class 'pandas.core.frame.DataFrame'>\n",
      "Int64Index: 107767 entries, 0 to 162979\n",
      "Data columns (total 2 columns):\n",
      " #   Column      Non-Null Count   Dtype  \n",
      "---  ------      --------------   -----  \n",
      " 0   clean_text  107765 non-null  object \n",
      " 1   category    107760 non-null  float64\n",
      "dtypes: float64(1), object(1)\n",
      "memory usage: 2.5+ MB\n"
     ]
    }
   ],
   "source": [
    "df.drop_duplicates()\n",
    "df.info()"
   ]
  },
  {
   "cell_type": "markdown",
   "id": "28f599b8",
   "metadata": {
    "papermill": {
     "duration": 0.017005,
     "end_time": "2022-09-09T20:32:05.332054",
     "exception": false,
     "start_time": "2022-09-09T20:32:05.315049",
     "status": "completed"
    },
    "tags": []
   },
   "source": [
    "## **Step - 2 :** *Data Pre-processing*"
   ]
  },
  {
   "cell_type": "markdown",
   "id": "ce5f3e7a",
   "metadata": {
    "papermill": {
     "duration": 0.017,
     "end_time": "2022-09-09T20:32:05.367180",
     "exception": false,
     "start_time": "2022-09-09T20:32:05.350180",
     "status": "completed"
    },
    "tags": []
   },
   "source": [
    "### **Step - 2.1 :** Variable Declaration"
   ]
  },
  {
   "cell_type": "code",
   "execution_count": 8,
   "id": "9d7f4a59",
   "metadata": {
    "execution": {
     "iopub.execute_input": "2022-09-09T20:32:05.401261Z",
     "iopub.status.busy": "2022-09-09T20:32:05.400352Z",
     "iopub.status.idle": "2022-09-09T20:32:05.409116Z",
     "shell.execute_reply": "2022-09-09T20:32:05.407322Z"
    },
    "papermill": {
     "duration": 0.028534,
     "end_time": "2022-09-09T20:32:05.411318",
     "exception": false,
     "start_time": "2022-09-09T20:32:05.382784",
     "status": "completed"
    },
    "tags": []
   },
   "outputs": [],
   "source": [
    "# Varaibles related to dataset\n",
    "DATASET_COLUMNS = [\"clean_text\", \"category\"]\n",
    "DATASET_ENCODING = \"ISO-8859-1\"\n",
    "TRAIN_SIZE = 0.8\n",
    "\n",
    "# Parameters for WORD2VEC\n",
    "W2V_SIZE = 300\n",
    "W2V_WINDOW = 7\n",
    "W2V_EPOCH = 32\n",
    "W2V_MIN_COUNT = 10\n",
    "\n",
    "# Parameters related to KERAS\n",
    "SEQUENCE_LENGTH = 300\n",
    "EPOCHS = 8\n",
    "BATCH_SIZE = 1024\n",
    "\n",
    "# Variable specific to SENTIMENT\n",
    "POSITIVE = \"POSITIVE\"\n",
    "NEGATIVE = \"NEGATIVE\"\n",
    "NEUTRAL = \"NEUTRAL\"\n",
    "SENTIMENT_THRESHOLDS = (0.4, 0.7)\n",
    "\n",
    "# Variables for Exporting purpose\n",
    "KERAS_MODEL = \"model.h5\"\n",
    "WORD2VEC_MODEL = \"model.w2v\"\n",
    "TOKENIZER_MODEL = \"tokenizer.pkl\"\n",
    "ENCODER_MODEL = \"encoder.pkl\"\n",
    "\n",
    "# MISC\n",
    "\n",
    "plt.style.use('fivethirtyeight')\n",
    "pd.options.display.max_columns = 250\n",
    "pd.options.display.max_rows = 250\n"
   ]
  },
  {
   "cell_type": "markdown",
   "id": "bf21256b",
   "metadata": {
    "papermill": {
     "duration": 0.016309,
     "end_time": "2022-09-09T20:32:05.444792",
     "exception": false,
     "start_time": "2022-09-09T20:32:05.428483",
     "status": "completed"
    },
    "tags": []
   },
   "source": [
    "### **Step - 2.2 :** Null Values Identification and Treatment"
   ]
  },
  {
   "cell_type": "code",
   "execution_count": 9,
   "id": "56dc0263",
   "metadata": {
    "execution": {
     "iopub.execute_input": "2022-09-09T20:32:05.482784Z",
     "iopub.status.busy": "2022-09-09T20:32:05.482464Z",
     "iopub.status.idle": "2022-09-09T20:32:05.504609Z",
     "shell.execute_reply": "2022-09-09T20:32:05.503694Z"
    },
    "papermill": {
     "duration": 0.04378,
     "end_time": "2022-09-09T20:32:05.506410",
     "exception": false,
     "start_time": "2022-09-09T20:32:05.462630",
     "status": "completed"
    },
    "tags": []
   },
   "outputs": [
    {
     "data": {
      "text/plain": [
       "clean_text    2\n",
       "category      7\n",
       "dtype: int64"
      ]
     },
     "execution_count": 9,
     "metadata": {},
     "output_type": "execute_result"
    }
   ],
   "source": [
    "# Confirming presence of missing values in each variable\n",
    "df.isnull().sum()"
   ]
  },
  {
   "cell_type": "code",
   "execution_count": 10,
   "id": "f7fef2a2",
   "metadata": {
    "execution": {
     "iopub.execute_input": "2022-09-09T20:32:05.544669Z",
     "iopub.status.busy": "2022-09-09T20:32:05.543505Z",
     "iopub.status.idle": "2022-09-09T20:32:05.595171Z",
     "shell.execute_reply": "2022-09-09T20:32:05.593967Z"
    },
    "papermill": {
     "duration": 0.073905,
     "end_time": "2022-09-09T20:32:05.598154",
     "exception": false,
     "start_time": "2022-09-09T20:32:05.524249",
     "status": "completed"
    },
    "tags": []
   },
   "outputs": [
    {
     "data": {
      "text/plain": [
       "clean_text    0\n",
       "category      0\n",
       "dtype: int64"
      ]
     },
     "execution_count": 10,
     "metadata": {},
     "output_type": "execute_result"
    }
   ],
   "source": [
    "df.dropna(how='any', inplace=True) # Removed these rows as the count is small and will not affect overall modelling\n",
    "df.isnull().sum()"
   ]
  },
  {
   "cell_type": "markdown",
   "id": "d6133510",
   "metadata": {
    "papermill": {
     "duration": 0.017226,
     "end_time": "2022-09-09T20:32:05.633878",
     "exception": false,
     "start_time": "2022-09-09T20:32:05.616652",
     "status": "completed"
    },
    "tags": []
   },
   "source": [
    "**Note**: No Nulls present"
   ]
  },
  {
   "cell_type": "markdown",
   "id": "7692d74b",
   "metadata": {
    "papermill": {
     "duration": 0.017472,
     "end_time": "2022-09-09T20:32:05.668818",
     "exception": false,
     "start_time": "2022-09-09T20:32:05.651346",
     "status": "completed"
    },
    "tags": []
   },
   "source": [
    "### **Step - 2.3 :** Label Encoding"
   ]
  },
  {
   "cell_type": "code",
   "execution_count": 11,
   "id": "c2cb7777",
   "metadata": {
    "execution": {
     "iopub.execute_input": "2022-09-09T20:32:05.706064Z",
     "iopub.status.busy": "2022-09-09T20:32:05.705415Z",
     "iopub.status.idle": "2022-09-09T20:32:05.711853Z",
     "shell.execute_reply": "2022-09-09T20:32:05.710321Z"
    },
    "papermill": {
     "duration": 0.02774,
     "end_time": "2022-09-09T20:32:05.713950",
     "exception": false,
     "start_time": "2022-09-09T20:32:05.686210",
     "status": "completed"
    },
    "tags": []
   },
   "outputs": [],
   "source": [
    "decode_map = {-1.0: \"NEGATIVE\", 1.0: \"POSITIVE\"}\n",
    "def decode_sentiment(label):\n",
    "    return decode_map[int(label)]"
   ]
  },
  {
   "cell_type": "code",
   "execution_count": 12,
   "id": "25dd1645",
   "metadata": {
    "execution": {
     "iopub.execute_input": "2022-09-09T20:32:05.753917Z",
     "iopub.status.busy": "2022-09-09T20:32:05.753584Z",
     "iopub.status.idle": "2022-09-09T20:32:05.806827Z",
     "shell.execute_reply": "2022-09-09T20:32:05.805337Z"
    },
    "papermill": {
     "duration": 0.07805,
     "end_time": "2022-09-09T20:32:05.810137",
     "exception": false,
     "start_time": "2022-09-09T20:32:05.732087",
     "status": "completed"
    },
    "tags": []
   },
   "outputs": [
    {
     "name": "stdout",
     "output_type": "stream",
     "text": [
      "CPU times: user 44.5 ms, sys: 4.24 ms, total: 48.8 ms\n",
      "Wall time: 47.2 ms\n"
     ]
    }
   ],
   "source": [
    "%%time\n",
    "df.category = df.category.apply(lambda x: decode_sentiment(x))"
   ]
  },
  {
   "cell_type": "code",
   "execution_count": 13,
   "id": "c7bde1bd",
   "metadata": {
    "execution": {
     "iopub.execute_input": "2022-09-09T20:32:05.849248Z",
     "iopub.status.busy": "2022-09-09T20:32:05.848919Z",
     "iopub.status.idle": "2022-09-09T20:32:06.069466Z",
     "shell.execute_reply": "2022-09-09T20:32:06.068082Z"
    },
    "papermill": {
     "duration": 0.242706,
     "end_time": "2022-09-09T20:32:06.071813",
     "exception": false,
     "start_time": "2022-09-09T20:32:05.829107",
     "status": "completed"
    },
    "tags": []
   },
   "outputs": [
    {
     "data": {
      "text/plain": [
       "Text(0.5, 1.0, 'Dataset labels distribuition')"
      ]
     },
     "execution_count": 13,
     "metadata": {},
     "output_type": "execute_result"
    },
    {
     "data": {
      "image/png": "[encoded data removed]",
      "text/plain": [
       "<Figure size 1152x576 with 1 Axes>"
      ]
     },
     "metadata": {},
     "output_type": "display_data"
    }
   ],
   "source": [
    "category_cnt = Counter(df.category)\n",
    "\n",
    "plt.figure(figsize=(16,8))\n",
    "plt.bar(category_cnt.keys(), category_cnt.values())\n",
    "plt.title(\"Dataset labels distribuition\")"
   ]
  },
  {
   "cell_type": "markdown",
   "id": "feee7232",
   "metadata": {
    "papermill": {
     "duration": 0.018249,
     "end_time": "2022-09-09T20:32:06.107827",
     "exception": false,
     "start_time": "2022-09-09T20:32:06.089578",
     "status": "completed"
    },
    "tags": []
   },
   "source": [
    "### **Step - 2.4 :** Text Manipulation and Structurization"
   ]
  },
  {
   "cell_type": "code",
   "execution_count": 14,
   "id": "5c63f8b1",
   "metadata": {
    "execution": {
     "iopub.execute_input": "2022-09-09T20:32:06.147213Z",
     "iopub.status.busy": "2022-09-09T20:32:06.146835Z",
     "iopub.status.idle": "2022-09-09T20:32:06.157239Z",
     "shell.execute_reply": "2022-09-09T20:32:06.155586Z"
    },
    "papermill": {
     "duration": 0.032879,
     "end_time": "2022-09-09T20:32:06.159844",
     "exception": false,
     "start_time": "2022-09-09T20:32:06.126965",
     "status": "completed"
    },
    "tags": []
   },
   "outputs": [],
   "source": [
    "# Including Stopwords and exclusing 'not' related stopwords\n",
    "\n",
    "stop_words = set(stopwords.words(\"english\"))\n",
    "stop_words.remove('not')\n",
    "more_stopwords = {'one', 'br', 'Po', 'th', 'sayi', 'fo', 'Unknown'}\n",
    "stop_words = stop_words.union(more_stopwords)\n",
    "                 \n",
    "stemmer = SnowballStemmer(\"english\")"
   ]
  },
  {
   "cell_type": "code",
   "execution_count": 15,
   "id": "a2abb5d3",
   "metadata": {
    "execution": {
     "iopub.execute_input": "2022-09-09T20:32:06.198137Z",
     "iopub.status.busy": "2022-09-09T20:32:06.197802Z",
     "iopub.status.idle": "2022-09-09T20:32:08.790411Z",
     "shell.execute_reply": "2022-09-09T20:32:08.789058Z"
    },
    "papermill": {
     "duration": 2.614544,
     "end_time": "2022-09-09T20:32:08.792607",
     "exception": false,
     "start_time": "2022-09-09T20:32:06.178063",
     "status": "completed"
    },
    "tags": []
   },
   "outputs": [
    {
     "data": {
      "text/html": [
       "<div>\n",
       "<style scoped>\n",
       "    .dataframe tbody tr th:only-of-type {\n",
       "        vertical-align: middle;\n",
       "    }\n",
       "\n",
       "    .dataframe tbody tr th {\n",
       "        vertical-align: top;\n",
       "    }\n",
       "\n",
       "    .dataframe thead th {\n",
       "        text-align: right;\n",
       "    }\n",
       "</style>\n",
       "<table border=\"1\" class=\"dataframe\">\n",
       "  <thead>\n",
       "    <tr style=\"text-align: right;\">\n",
       "      <th></th>\n",
       "      <th>clean_text</th>\n",
       "      <th>category</th>\n",
       "      <th>mod_text</th>\n",
       "    </tr>\n",
       "  </thead>\n",
       "  <tbody>\n",
       "    <tr>\n",
       "      <th>0</th>\n",
       "      <td>when modi promised “minimum government maximum...</td>\n",
       "      <td>NEGATIVE</td>\n",
       "      <td>when modi promised minimum government maximum ...</td>\n",
       "    </tr>\n",
       "    <tr>\n",
       "      <th>2</th>\n",
       "      <td>what did just say vote for modi  welcome bjp t...</td>\n",
       "      <td>POSITIVE</td>\n",
       "      <td>what did just say vote for modi  welcome bjp t...</td>\n",
       "    </tr>\n",
       "    <tr>\n",
       "      <th>3</th>\n",
       "      <td>asking his supporters prefix chowkidar their n...</td>\n",
       "      <td>POSITIVE</td>\n",
       "      <td>asking his supporters prefix chowkidar their n...</td>\n",
       "    </tr>\n",
       "    <tr>\n",
       "      <th>4</th>\n",
       "      <td>answer who among these the most powerful world...</td>\n",
       "      <td>POSITIVE</td>\n",
       "      <td>answer who among these the most powerful world...</td>\n",
       "    </tr>\n",
       "    <tr>\n",
       "      <th>8</th>\n",
       "      <td>with upcoming election india saga going import...</td>\n",
       "      <td>POSITIVE</td>\n",
       "      <td>with upcoming election india saga going import...</td>\n",
       "    </tr>\n",
       "  </tbody>\n",
       "</table>\n",
       "</div>"
      ],
      "text/plain": [
       "                                          clean_text  category  \\\n",
       "0  when modi promised “minimum government maximum...  NEGATIVE   \n",
       "2  what did just say vote for modi  welcome bjp t...  POSITIVE   \n",
       "3  asking his supporters prefix chowkidar their n...  POSITIVE   \n",
       "4  answer who among these the most powerful world...  POSITIVE   \n",
       "8  with upcoming election india saga going import...  POSITIVE   \n",
       "\n",
       "                                            mod_text  \n",
       "0  when modi promised minimum government maximum ...  \n",
       "2  what did just say vote for modi  welcome bjp t...  \n",
       "3  asking his supporters prefix chowkidar their n...  \n",
       "4  answer who among these the most powerful world...  \n",
       "8  with upcoming election india saga going import...  "
      ]
     },
     "execution_count": 15,
     "metadata": {},
     "output_type": "execute_result"
    }
   ],
   "source": [
    "def remove_URL(text):\n",
    "    url = re.compile(r'https?://\\S+|www\\.\\S+')\n",
    "    return url.sub(r'', text)\n",
    "\n",
    "\n",
    "def remove_emoji(text):\n",
    "    emoji_pattern = re.compile(\n",
    "        '['\n",
    "        u'\\U0001F600-\\U0001F64F'  # emoticons\n",
    "        u'\\U0001F300-\\U0001F5FF'  # symbols & pictographs\n",
    "        u'\\U0001F680-\\U0001F6FF'  # transport & map symbols\n",
    "        u'\\U0001F1E0-\\U0001F1FF'  # flags (iOS)\n",
    "        u'\\U00002702-\\U000027B0'\n",
    "        u'\\U000024C2-\\U0001F251'\n",
    "        ']+',\n",
    "        flags=re.UNICODE)\n",
    "    return emoji_pattern.sub(r'', text)\n",
    "\n",
    "\n",
    "def remove_html(text):\n",
    "    html = re.compile(r'^[^ ]<.*?>|&([a-z0-9]+|#[0-9]\\\"\\'\\“{1,6}|#x[0-9a-f]{1,6});[^A-Za-z0-9]+')\n",
    "    return re.sub(html, '', text)\n",
    "\n",
    "\n",
    "def remove_punct(text):\n",
    "    table = str.maketrans('', '', string.punctuation)\n",
    "    return text.translate(table)\n",
    "\n",
    "def remove_quotes(text):\n",
    "    quotes = re.compile(r'[^A-Za-z0-9\\s]+')\n",
    "    return re.sub(quotes, '', text)\n",
    "\n",
    "\n",
    "# Applying helper functions\n",
    "\n",
    "df['mod_text'] = df['clean_text'].apply(lambda x: remove_URL(x))\n",
    "df['mod_text'] = df['mod_text'].apply(lambda x: remove_emoji(x))\n",
    "df['mod_text'] = df['mod_text'].apply(lambda x: remove_html(x))\n",
    "df['mod_text'] = df['mod_text'].apply(lambda x: remove_punct(x))\n",
    "df['mod_text'] = df['mod_text'].apply(lambda x: remove_quotes(x))\n",
    "df.head()"
   ]
  },
  {
   "cell_type": "code",
   "execution_count": 16,
   "id": "4ad56e65",
   "metadata": {
    "execution": {
     "iopub.execute_input": "2022-09-09T20:32:08.828408Z",
     "iopub.status.busy": "2022-09-09T20:32:08.828055Z",
     "iopub.status.idle": "2022-09-09T20:32:24.255505Z",
     "shell.execute_reply": "2022-09-09T20:32:24.254640Z"
    },
    "papermill": {
     "duration": 15.448349,
     "end_time": "2022-09-09T20:32:24.257860",
     "exception": false,
     "start_time": "2022-09-09T20:32:08.809511",
     "status": "completed"
    },
    "tags": []
   },
   "outputs": [
    {
     "data": {
      "text/html": [
       "<div>\n",
       "<style scoped>\n",
       "    .dataframe tbody tr th:only-of-type {\n",
       "        vertical-align: middle;\n",
       "    }\n",
       "\n",
       "    .dataframe tbody tr th {\n",
       "        vertical-align: top;\n",
       "    }\n",
       "\n",
       "    .dataframe thead th {\n",
       "        text-align: right;\n",
       "    }\n",
       "</style>\n",
       "<table border=\"1\" class=\"dataframe\">\n",
       "  <thead>\n",
       "    <tr style=\"text-align: right;\">\n",
       "      <th></th>\n",
       "      <th>clean_text</th>\n",
       "      <th>category</th>\n",
       "      <th>mod_text</th>\n",
       "      <th>tokenized</th>\n",
       "    </tr>\n",
       "  </thead>\n",
       "  <tbody>\n",
       "    <tr>\n",
       "      <th>0</th>\n",
       "      <td>when modi promised “minimum government maximum...</td>\n",
       "      <td>NEGATIVE</td>\n",
       "      <td>when modi promised minimum government maximum ...</td>\n",
       "      <td>[when, modi, promised, minimum, government, ma...</td>\n",
       "    </tr>\n",
       "    <tr>\n",
       "      <th>2</th>\n",
       "      <td>what did just say vote for modi  welcome bjp t...</td>\n",
       "      <td>POSITIVE</td>\n",
       "      <td>what did just say vote for modi  welcome bjp t...</td>\n",
       "      <td>[what, did, just, say, vote, for, modi, welcom...</td>\n",
       "    </tr>\n",
       "    <tr>\n",
       "      <th>3</th>\n",
       "      <td>asking his supporters prefix chowkidar their n...</td>\n",
       "      <td>POSITIVE</td>\n",
       "      <td>asking his supporters prefix chowkidar their n...</td>\n",
       "      <td>[asking, his, supporters, prefix, chowkidar, t...</td>\n",
       "    </tr>\n",
       "    <tr>\n",
       "      <th>4</th>\n",
       "      <td>answer who among these the most powerful world...</td>\n",
       "      <td>POSITIVE</td>\n",
       "      <td>answer who among these the most powerful world...</td>\n",
       "      <td>[answer, who, among, these, the, most, powerfu...</td>\n",
       "    </tr>\n",
       "    <tr>\n",
       "      <th>8</th>\n",
       "      <td>with upcoming election india saga going import...</td>\n",
       "      <td>POSITIVE</td>\n",
       "      <td>with upcoming election india saga going import...</td>\n",
       "      <td>[with, upcoming, election, india, saga, going,...</td>\n",
       "    </tr>\n",
       "  </tbody>\n",
       "</table>\n",
       "</div>"
      ],
      "text/plain": [
       "                                          clean_text  category  \\\n",
       "0  when modi promised “minimum government maximum...  NEGATIVE   \n",
       "2  what did just say vote for modi  welcome bjp t...  POSITIVE   \n",
       "3  asking his supporters prefix chowkidar their n...  POSITIVE   \n",
       "4  answer who among these the most powerful world...  POSITIVE   \n",
       "8  with upcoming election india saga going import...  POSITIVE   \n",
       "\n",
       "                                            mod_text  \\\n",
       "0  when modi promised minimum government maximum ...   \n",
       "2  what did just say vote for modi  welcome bjp t...   \n",
       "3  asking his supporters prefix chowkidar their n...   \n",
       "4  answer who among these the most powerful world...   \n",
       "8  with upcoming election india saga going import...   \n",
       "\n",
       "                                           tokenized  \n",
       "0  [when, modi, promised, minimum, government, ma...  \n",
       "2  [what, did, just, say, vote, for, modi, welcom...  \n",
       "3  [asking, his, supporters, prefix, chowkidar, t...  \n",
       "4  [answer, who, among, these, the, most, powerfu...  \n",
       "8  [with, upcoming, election, india, saga, going,...  "
      ]
     },
     "execution_count": 16,
     "metadata": {},
     "output_type": "execute_result"
    }
   ],
   "source": [
    "# Tokenizing the tweet base texts.\n",
    "\n",
    "df['tokenized'] = df['mod_text'].apply(word_tokenize)\n",
    "\n",
    "df.head()"
   ]
  },
  {
   "cell_type": "code",
   "execution_count": 17,
   "id": "3743d3ef",
   "metadata": {
    "execution": {
     "iopub.execute_input": "2022-09-09T20:32:24.298368Z",
     "iopub.status.busy": "2022-09-09T20:32:24.296703Z",
     "iopub.status.idle": "2022-09-09T20:32:25.084723Z",
     "shell.execute_reply": "2022-09-09T20:32:25.083407Z"
    },
    "papermill": {
     "duration": 0.810515,
     "end_time": "2022-09-09T20:32:25.087054",
     "exception": false,
     "start_time": "2022-09-09T20:32:24.276539",
     "status": "completed"
    },
    "tags": []
   },
   "outputs": [
    {
     "data": {
      "text/html": [
       "<div>\n",
       "<style scoped>\n",
       "    .dataframe tbody tr th:only-of-type {\n",
       "        vertical-align: middle;\n",
       "    }\n",
       "\n",
       "    .dataframe tbody tr th {\n",
       "        vertical-align: top;\n",
       "    }\n",
       "\n",
       "    .dataframe thead th {\n",
       "        text-align: right;\n",
       "    }\n",
       "</style>\n",
       "<table border=\"1\" class=\"dataframe\">\n",
       "  <thead>\n",
       "    <tr style=\"text-align: right;\">\n",
       "      <th></th>\n",
       "      <th>clean_text</th>\n",
       "      <th>category</th>\n",
       "      <th>mod_text</th>\n",
       "      <th>tokenized</th>\n",
       "      <th>lower</th>\n",
       "    </tr>\n",
       "  </thead>\n",
       "  <tbody>\n",
       "    <tr>\n",
       "      <th>0</th>\n",
       "      <td>when modi promised “minimum government maximum...</td>\n",
       "      <td>NEGATIVE</td>\n",
       "      <td>when modi promised minimum government maximum ...</td>\n",
       "      <td>[when, modi, promised, minimum, government, ma...</td>\n",
       "      <td>[when, modi, promised, minimum, government, ma...</td>\n",
       "    </tr>\n",
       "    <tr>\n",
       "      <th>2</th>\n",
       "      <td>what did just say vote for modi  welcome bjp t...</td>\n",
       "      <td>POSITIVE</td>\n",
       "      <td>what did just say vote for modi  welcome bjp t...</td>\n",
       "      <td>[what, did, just, say, vote, for, modi, welcom...</td>\n",
       "      <td>[what, did, just, say, vote, for, modi, welcom...</td>\n",
       "    </tr>\n",
       "    <tr>\n",
       "      <th>3</th>\n",
       "      <td>asking his supporters prefix chowkidar their n...</td>\n",
       "      <td>POSITIVE</td>\n",
       "      <td>asking his supporters prefix chowkidar their n...</td>\n",
       "      <td>[asking, his, supporters, prefix, chowkidar, t...</td>\n",
       "      <td>[asking, his, supporters, prefix, chowkidar, t...</td>\n",
       "    </tr>\n",
       "    <tr>\n",
       "      <th>4</th>\n",
       "      <td>answer who among these the most powerful world...</td>\n",
       "      <td>POSITIVE</td>\n",
       "      <td>answer who among these the most powerful world...</td>\n",
       "      <td>[answer, who, among, these, the, most, powerfu...</td>\n",
       "      <td>[answer, who, among, these, the, most, powerfu...</td>\n",
       "    </tr>\n",
       "    <tr>\n",
       "      <th>8</th>\n",
       "      <td>with upcoming election india saga going import...</td>\n",
       "      <td>POSITIVE</td>\n",
       "      <td>with upcoming election india saga going import...</td>\n",
       "      <td>[with, upcoming, election, india, saga, going,...</td>\n",
       "      <td>[with, upcoming, election, india, saga, going,...</td>\n",
       "    </tr>\n",
       "  </tbody>\n",
       "</table>\n",
       "</div>"
      ],
      "text/plain": [
       "                                          clean_text  category  \\\n",
       "0  when modi promised “minimum government maximum...  NEGATIVE   \n",
       "2  what did just say vote for modi  welcome bjp t...  POSITIVE   \n",
       "3  asking his supporters prefix chowkidar their n...  POSITIVE   \n",
       "4  answer who among these the most powerful world...  POSITIVE   \n",
       "8  with upcoming election india saga going import...  POSITIVE   \n",
       "\n",
       "                                            mod_text  \\\n",
       "0  when modi promised minimum government maximum ...   \n",
       "2  what did just say vote for modi  welcome bjp t...   \n",
       "3  asking his supporters prefix chowkidar their n...   \n",
       "4  answer who among these the most powerful world...   \n",
       "8  with upcoming election india saga going import...   \n",
       "\n",
       "                                           tokenized  \\\n",
       "0  [when, modi, promised, minimum, government, ma...   \n",
       "2  [what, did, just, say, vote, for, modi, welcom...   \n",
       "3  [asking, his, supporters, prefix, chowkidar, t...   \n",
       "4  [answer, who, among, these, the, most, powerfu...   \n",
       "8  [with, upcoming, election, india, saga, going,...   \n",
       "\n",
       "                                               lower  \n",
       "0  [when, modi, promised, minimum, government, ma...  \n",
       "2  [what, did, just, say, vote, for, modi, welcom...  \n",
       "3  [asking, his, supporters, prefix, chowkidar, t...  \n",
       "4  [answer, who, among, these, the, most, powerfu...  \n",
       "8  [with, upcoming, election, india, saga, going,...  "
      ]
     },
     "execution_count": 17,
     "metadata": {},
     "output_type": "execute_result"
    }
   ],
   "source": [
    "# Lower casing clean text.\n",
    "\n",
    "df['lower'] = df['tokenized'].apply(\n",
    "    lambda x: [word.lower() for word in x])\n",
    "\n",
    "df.head()"
   ]
  },
  {
   "cell_type": "code",
   "execution_count": 18,
   "id": "25a1afdf",
   "metadata": {
    "execution": {
     "iopub.execute_input": "2022-09-09T20:32:25.126542Z",
     "iopub.status.busy": "2022-09-09T20:32:25.126214Z",
     "iopub.status.idle": "2022-09-09T20:32:25.545947Z",
     "shell.execute_reply": "2022-09-09T20:32:25.544507Z"
    },
    "papermill": {
     "duration": 0.442681,
     "end_time": "2022-09-09T20:32:25.548618",
     "exception": false,
     "start_time": "2022-09-09T20:32:25.105937",
     "status": "completed"
    },
    "tags": []
   },
   "outputs": [
    {
     "data": {
      "text/html": [
       "<div>\n",
       "<style scoped>\n",
       "    .dataframe tbody tr th:only-of-type {\n",
       "        vertical-align: middle;\n",
       "    }\n",
       "\n",
       "    .dataframe tbody tr th {\n",
       "        vertical-align: top;\n",
       "    }\n",
       "\n",
       "    .dataframe thead th {\n",
       "        text-align: right;\n",
       "    }\n",
       "</style>\n",
       "<table border=\"1\" class=\"dataframe\">\n",
       "  <thead>\n",
       "    <tr style=\"text-align: right;\">\n",
       "      <th></th>\n",
       "      <th>clean_text</th>\n",
       "      <th>category</th>\n",
       "      <th>mod_text</th>\n",
       "      <th>tokenized</th>\n",
       "      <th>lower</th>\n",
       "      <th>stopwords_removed</th>\n",
       "    </tr>\n",
       "  </thead>\n",
       "  <tbody>\n",
       "    <tr>\n",
       "      <th>0</th>\n",
       "      <td>when modi promised “minimum government maximum...</td>\n",
       "      <td>NEGATIVE</td>\n",
       "      <td>when modi promised minimum government maximum ...</td>\n",
       "      <td>[when, modi, promised, minimum, government, ma...</td>\n",
       "      <td>[when, modi, promised, minimum, government, ma...</td>\n",
       "      <td>[modi, promised, minimum, government, maximum,...</td>\n",
       "    </tr>\n",
       "    <tr>\n",
       "      <th>2</th>\n",
       "      <td>what did just say vote for modi  welcome bjp t...</td>\n",
       "      <td>POSITIVE</td>\n",
       "      <td>what did just say vote for modi  welcome bjp t...</td>\n",
       "      <td>[what, did, just, say, vote, for, modi, welcom...</td>\n",
       "      <td>[what, did, just, say, vote, for, modi, welcom...</td>\n",
       "      <td>[say, vote, modi, welcome, bjp, told, rahul, m...</td>\n",
       "    </tr>\n",
       "    <tr>\n",
       "      <th>3</th>\n",
       "      <td>asking his supporters prefix chowkidar their n...</td>\n",
       "      <td>POSITIVE</td>\n",
       "      <td>asking his supporters prefix chowkidar their n...</td>\n",
       "      <td>[asking, his, supporters, prefix, chowkidar, t...</td>\n",
       "      <td>[asking, his, supporters, prefix, chowkidar, t...</td>\n",
       "      <td>[asking, supporters, prefix, chowkidar, names,...</td>\n",
       "    </tr>\n",
       "    <tr>\n",
       "      <th>4</th>\n",
       "      <td>answer who among these the most powerful world...</td>\n",
       "      <td>POSITIVE</td>\n",
       "      <td>answer who among these the most powerful world...</td>\n",
       "      <td>[answer, who, among, these, the, most, powerfu...</td>\n",
       "      <td>[answer, who, among, these, the, most, powerfu...</td>\n",
       "      <td>[answer, among, powerful, world, leader, today...</td>\n",
       "    </tr>\n",
       "    <tr>\n",
       "      <th>8</th>\n",
       "      <td>with upcoming election india saga going import...</td>\n",
       "      <td>POSITIVE</td>\n",
       "      <td>with upcoming election india saga going import...</td>\n",
       "      <td>[with, upcoming, election, india, saga, going,...</td>\n",
       "      <td>[with, upcoming, election, india, saga, going,...</td>\n",
       "      <td>[upcoming, election, india, saga, going, impor...</td>\n",
       "    </tr>\n",
       "  </tbody>\n",
       "</table>\n",
       "</div>"
      ],
      "text/plain": [
       "                                          clean_text  category  \\\n",
       "0  when modi promised “minimum government maximum...  NEGATIVE   \n",
       "2  what did just say vote for modi  welcome bjp t...  POSITIVE   \n",
       "3  asking his supporters prefix chowkidar their n...  POSITIVE   \n",
       "4  answer who among these the most powerful world...  POSITIVE   \n",
       "8  with upcoming election india saga going import...  POSITIVE   \n",
       "\n",
       "                                            mod_text  \\\n",
       "0  when modi promised minimum government maximum ...   \n",
       "2  what did just say vote for modi  welcome bjp t...   \n",
       "3  asking his supporters prefix chowkidar their n...   \n",
       "4  answer who among these the most powerful world...   \n",
       "8  with upcoming election india saga going import...   \n",
       "\n",
       "                                           tokenized  \\\n",
       "0  [when, modi, promised, minimum, government, ma...   \n",
       "2  [what, did, just, say, vote, for, modi, welcom...   \n",
       "3  [asking, his, supporters, prefix, chowkidar, t...   \n",
       "4  [answer, who, among, these, the, most, powerfu...   \n",
       "8  [with, upcoming, election, india, saga, going,...   \n",
       "\n",
       "                                               lower  \\\n",
       "0  [when, modi, promised, minimum, government, ma...   \n",
       "2  [what, did, just, say, vote, for, modi, welcom...   \n",
       "3  [asking, his, supporters, prefix, chowkidar, t...   \n",
       "4  [answer, who, among, these, the, most, powerfu...   \n",
       "8  [with, upcoming, election, india, saga, going,...   \n",
       "\n",
       "                                   stopwords_removed  \n",
       "0  [modi, promised, minimum, government, maximum,...  \n",
       "2  [say, vote, modi, welcome, bjp, told, rahul, m...  \n",
       "3  [asking, supporters, prefix, chowkidar, names,...  \n",
       "4  [answer, among, powerful, world, leader, today...  \n",
       "8  [upcoming, election, india, saga, going, impor...  "
      ]
     },
     "execution_count": 18,
     "metadata": {},
     "output_type": "execute_result"
    }
   ],
   "source": [
    "# Removing stopwords.\n",
    "\n",
    "df['stopwords_removed'] = df['lower'].apply(\n",
    "    lambda x: [word for word in x if word not in stop_words])\n",
    "\n",
    "df.head()"
   ]
  },
  {
   "cell_type": "code",
   "execution_count": 19,
   "id": "52bd2c1e",
   "metadata": {
    "execution": {
     "iopub.execute_input": "2022-09-09T20:32:25.589289Z",
     "iopub.status.busy": "2022-09-09T20:32:25.588906Z",
     "iopub.status.idle": "2022-09-09T20:34:21.566496Z",
     "shell.execute_reply": "2022-09-09T20:34:21.565576Z"
    },
    "papermill": {
     "duration": 116.018941,
     "end_time": "2022-09-09T20:34:21.587225",
     "exception": false,
     "start_time": "2022-09-09T20:32:25.568284",
     "status": "completed"
    },
    "tags": []
   },
   "outputs": [
    {
     "data": {
      "text/html": [
       "<div>\n",
       "<style scoped>\n",
       "    .dataframe tbody tr th:only-of-type {\n",
       "        vertical-align: middle;\n",
       "    }\n",
       "\n",
       "    .dataframe tbody tr th {\n",
       "        vertical-align: top;\n",
       "    }\n",
       "\n",
       "    .dataframe thead th {\n",
       "        text-align: right;\n",
       "    }\n",
       "</style>\n",
       "<table border=\"1\" class=\"dataframe\">\n",
       "  <thead>\n",
       "    <tr style=\"text-align: right;\">\n",
       "      <th></th>\n",
       "      <th>clean_text</th>\n",
       "      <th>category</th>\n",
       "      <th>mod_text</th>\n",
       "      <th>tokenized</th>\n",
       "      <th>lower</th>\n",
       "      <th>stopwords_removed</th>\n",
       "      <th>pos_tags</th>\n",
       "    </tr>\n",
       "  </thead>\n",
       "  <tbody>\n",
       "    <tr>\n",
       "      <th>0</th>\n",
       "      <td>when modi promised “minimum government maximum...</td>\n",
       "      <td>NEGATIVE</td>\n",
       "      <td>when modi promised minimum government maximum ...</td>\n",
       "      <td>[when, modi, promised, minimum, government, ma...</td>\n",
       "      <td>[when, modi, promised, minimum, government, ma...</td>\n",
       "      <td>[modi, promised, minimum, government, maximum,...</td>\n",
       "      <td>[(modi, NNS), (promised, VBD), (minimum, JJ), ...</td>\n",
       "    </tr>\n",
       "    <tr>\n",
       "      <th>2</th>\n",
       "      <td>what did just say vote for modi  welcome bjp t...</td>\n",
       "      <td>POSITIVE</td>\n",
       "      <td>what did just say vote for modi  welcome bjp t...</td>\n",
       "      <td>[what, did, just, say, vote, for, modi, welcom...</td>\n",
       "      <td>[what, did, just, say, vote, for, modi, welcom...</td>\n",
       "      <td>[say, vote, modi, welcome, bjp, told, rahul, m...</td>\n",
       "      <td>[(say, VB), (vote, NN), (modi, FW), (welcome, ...</td>\n",
       "    </tr>\n",
       "    <tr>\n",
       "      <th>3</th>\n",
       "      <td>asking his supporters prefix chowkidar their n...</td>\n",
       "      <td>POSITIVE</td>\n",
       "      <td>asking his supporters prefix chowkidar their n...</td>\n",
       "      <td>[asking, his, supporters, prefix, chowkidar, t...</td>\n",
       "      <td>[asking, his, supporters, prefix, chowkidar, t...</td>\n",
       "      <td>[asking, supporters, prefix, chowkidar, names,...</td>\n",
       "      <td>[(asking, VBG), (supporters, NNS), (prefix, VB...</td>\n",
       "    </tr>\n",
       "    <tr>\n",
       "      <th>4</th>\n",
       "      <td>answer who among these the most powerful world...</td>\n",
       "      <td>POSITIVE</td>\n",
       "      <td>answer who among these the most powerful world...</td>\n",
       "      <td>[answer, who, among, these, the, most, powerfu...</td>\n",
       "      <td>[answer, who, among, these, the, most, powerfu...</td>\n",
       "      <td>[answer, among, powerful, world, leader, today...</td>\n",
       "      <td>[(answer, NN), (among, IN), (powerful, JJ), (w...</td>\n",
       "    </tr>\n",
       "    <tr>\n",
       "      <th>8</th>\n",
       "      <td>with upcoming election india saga going import...</td>\n",
       "      <td>POSITIVE</td>\n",
       "      <td>with upcoming election india saga going import...</td>\n",
       "      <td>[with, upcoming, election, india, saga, going,...</td>\n",
       "      <td>[with, upcoming, election, india, saga, going,...</td>\n",
       "      <td>[upcoming, election, india, saga, going, impor...</td>\n",
       "      <td>[(upcoming, JJ), (election, NN), (india, NN), ...</td>\n",
       "    </tr>\n",
       "  </tbody>\n",
       "</table>\n",
       "</div>"
      ],
      "text/plain": [
       "                                          clean_text  category  \\\n",
       "0  when modi promised “minimum government maximum...  NEGATIVE   \n",
       "2  what did just say vote for modi  welcome bjp t...  POSITIVE   \n",
       "3  asking his supporters prefix chowkidar their n...  POSITIVE   \n",
       "4  answer who among these the most powerful world...  POSITIVE   \n",
       "8  with upcoming election india saga going import...  POSITIVE   \n",
       "\n",
       "                                            mod_text  \\\n",
       "0  when modi promised minimum government maximum ...   \n",
       "2  what did just say vote for modi  welcome bjp t...   \n",
       "3  asking his supporters prefix chowkidar their n...   \n",
       "4  answer who among these the most powerful world...   \n",
       "8  with upcoming election india saga going import...   \n",
       "\n",
       "                                           tokenized  \\\n",
       "0  [when, modi, promised, minimum, government, ma...   \n",
       "2  [what, did, just, say, vote, for, modi, welcom...   \n",
       "3  [asking, his, supporters, prefix, chowkidar, t...   \n",
       "4  [answer, who, among, these, the, most, powerfu...   \n",
       "8  [with, upcoming, election, india, saga, going,...   \n",
       "\n",
       "                                               lower  \\\n",
       "0  [when, modi, promised, minimum, government, ma...   \n",
       "2  [what, did, just, say, vote, for, modi, welcom...   \n",
       "3  [asking, his, supporters, prefix, chowkidar, t...   \n",
       "4  [answer, who, among, these, the, most, powerfu...   \n",
       "8  [with, upcoming, election, india, saga, going,...   \n",
       "\n",
       "                                   stopwords_removed  \\\n",
       "0  [modi, promised, minimum, government, maximum,...   \n",
       "2  [say, vote, modi, welcome, bjp, told, rahul, m...   \n",
       "3  [asking, supporters, prefix, chowkidar, names,...   \n",
       "4  [answer, among, powerful, world, leader, today...   \n",
       "8  [upcoming, election, india, saga, going, impor...   \n",
       "\n",
       "                                            pos_tags  \n",
       "0  [(modi, NNS), (promised, VBD), (minimum, JJ), ...  \n",
       "2  [(say, VB), (vote, NN), (modi, FW), (welcome, ...  \n",
       "3  [(asking, VBG), (supporters, NNS), (prefix, VB...  \n",
       "4  [(answer, NN), (among, IN), (powerful, JJ), (w...  \n",
       "8  [(upcoming, JJ), (election, NN), (india, NN), ...  "
      ]
     },
     "execution_count": 19,
     "metadata": {},
     "output_type": "execute_result"
    }
   ],
   "source": [
    "# Applying part of speech tags.\n",
    "\n",
    "df['pos_tags'] = df['stopwords_removed'].apply(nltk.tag.pos_tag)\n",
    "\n",
    "df.head()"
   ]
  },
  {
   "cell_type": "code",
   "execution_count": 20,
   "id": "fe5510ef",
   "metadata": {
    "execution": {
     "iopub.execute_input": "2022-09-09T20:34:21.629654Z",
     "iopub.status.busy": "2022-09-09T20:34:21.629250Z",
     "iopub.status.idle": "2022-09-09T20:34:25.197460Z",
     "shell.execute_reply": "2022-09-09T20:34:25.196510Z"
    },
    "papermill": {
     "duration": 3.592393,
     "end_time": "2022-09-09T20:34:25.199768",
     "exception": false,
     "start_time": "2022-09-09T20:34:21.607375",
     "status": "completed"
    },
    "tags": []
   },
   "outputs": [
    {
     "data": {
      "text/html": [
       "<div>\n",
       "<style scoped>\n",
       "    .dataframe tbody tr th:only-of-type {\n",
       "        vertical-align: middle;\n",
       "    }\n",
       "\n",
       "    .dataframe tbody tr th {\n",
       "        vertical-align: top;\n",
       "    }\n",
       "\n",
       "    .dataframe thead th {\n",
       "        text-align: right;\n",
       "    }\n",
       "</style>\n",
       "<table border=\"1\" class=\"dataframe\">\n",
       "  <thead>\n",
       "    <tr style=\"text-align: right;\">\n",
       "      <th></th>\n",
       "      <th>clean_text</th>\n",
       "      <th>category</th>\n",
       "      <th>mod_text</th>\n",
       "      <th>tokenized</th>\n",
       "      <th>lower</th>\n",
       "      <th>stopwords_removed</th>\n",
       "      <th>pos_tags</th>\n",
       "      <th>wordnet_pos</th>\n",
       "    </tr>\n",
       "  </thead>\n",
       "  <tbody>\n",
       "    <tr>\n",
       "      <th>0</th>\n",
       "      <td>when modi promised “minimum government maximum...</td>\n",
       "      <td>NEGATIVE</td>\n",
       "      <td>when modi promised minimum government maximum ...</td>\n",
       "      <td>[when, modi, promised, minimum, government, ma...</td>\n",
       "      <td>[when, modi, promised, minimum, government, ma...</td>\n",
       "      <td>[modi, promised, minimum, government, maximum,...</td>\n",
       "      <td>[(modi, NNS), (promised, VBD), (minimum, JJ), ...</td>\n",
       "      <td>[(modi, n), (promised, v), (minimum, a), (gove...</td>\n",
       "    </tr>\n",
       "    <tr>\n",
       "      <th>2</th>\n",
       "      <td>what did just say vote for modi  welcome bjp t...</td>\n",
       "      <td>POSITIVE</td>\n",
       "      <td>what did just say vote for modi  welcome bjp t...</td>\n",
       "      <td>[what, did, just, say, vote, for, modi, welcom...</td>\n",
       "      <td>[what, did, just, say, vote, for, modi, welcom...</td>\n",
       "      <td>[say, vote, modi, welcome, bjp, told, rahul, m...</td>\n",
       "      <td>[(say, VB), (vote, NN), (modi, FW), (welcome, ...</td>\n",
       "      <td>[(say, v), (vote, n), (modi, n), (welcome, a),...</td>\n",
       "    </tr>\n",
       "    <tr>\n",
       "      <th>3</th>\n",
       "      <td>asking his supporters prefix chowkidar their n...</td>\n",
       "      <td>POSITIVE</td>\n",
       "      <td>asking his supporters prefix chowkidar their n...</td>\n",
       "      <td>[asking, his, supporters, prefix, chowkidar, t...</td>\n",
       "      <td>[asking, his, supporters, prefix, chowkidar, t...</td>\n",
       "      <td>[asking, supporters, prefix, chowkidar, names,...</td>\n",
       "      <td>[(asking, VBG), (supporters, NNS), (prefix, VB...</td>\n",
       "      <td>[(asking, v), (supporters, n), (prefix, v), (c...</td>\n",
       "    </tr>\n",
       "    <tr>\n",
       "      <th>4</th>\n",
       "      <td>answer who among these the most powerful world...</td>\n",
       "      <td>POSITIVE</td>\n",
       "      <td>answer who among these the most powerful world...</td>\n",
       "      <td>[answer, who, among, these, the, most, powerfu...</td>\n",
       "      <td>[answer, who, among, these, the, most, powerfu...</td>\n",
       "      <td>[answer, among, powerful, world, leader, today...</td>\n",
       "      <td>[(answer, NN), (among, IN), (powerful, JJ), (w...</td>\n",
       "      <td>[(answer, n), (among, n), (powerful, a), (worl...</td>\n",
       "    </tr>\n",
       "    <tr>\n",
       "      <th>8</th>\n",
       "      <td>with upcoming election india saga going import...</td>\n",
       "      <td>POSITIVE</td>\n",
       "      <td>with upcoming election india saga going import...</td>\n",
       "      <td>[with, upcoming, election, india, saga, going,...</td>\n",
       "      <td>[with, upcoming, election, india, saga, going,...</td>\n",
       "      <td>[upcoming, election, india, saga, going, impor...</td>\n",
       "      <td>[(upcoming, JJ), (election, NN), (india, NN), ...</td>\n",
       "      <td>[(upcoming, a), (election, n), (india, n), (sa...</td>\n",
       "    </tr>\n",
       "  </tbody>\n",
       "</table>\n",
       "</div>"
      ],
      "text/plain": [
       "                                          clean_text  category  \\\n",
       "0  when modi promised “minimum government maximum...  NEGATIVE   \n",
       "2  what did just say vote for modi  welcome bjp t...  POSITIVE   \n",
       "3  asking his supporters prefix chowkidar their n...  POSITIVE   \n",
       "4  answer who among these the most powerful world...  POSITIVE   \n",
       "8  with upcoming election india saga going import...  POSITIVE   \n",
       "\n",
       "                                            mod_text  \\\n",
       "0  when modi promised minimum government maximum ...   \n",
       "2  what did just say vote for modi  welcome bjp t...   \n",
       "3  asking his supporters prefix chowkidar their n...   \n",
       "4  answer who among these the most powerful world...   \n",
       "8  with upcoming election india saga going import...   \n",
       "\n",
       "                                           tokenized  \\\n",
       "0  [when, modi, promised, minimum, government, ma...   \n",
       "2  [what, did, just, say, vote, for, modi, welcom...   \n",
       "3  [asking, his, supporters, prefix, chowkidar, t...   \n",
       "4  [answer, who, among, these, the, most, powerfu...   \n",
       "8  [with, upcoming, election, india, saga, going,...   \n",
       "\n",
       "                                               lower  \\\n",
       "0  [when, modi, promised, minimum, government, ma...   \n",
       "2  [what, did, just, say, vote, for, modi, welcom...   \n",
       "3  [asking, his, supporters, prefix, chowkidar, t...   \n",
       "4  [answer, who, among, these, the, most, powerfu...   \n",
       "8  [with, upcoming, election, india, saga, going,...   \n",
       "\n",
       "                                   stopwords_removed  \\\n",
       "0  [modi, promised, minimum, government, maximum,...   \n",
       "2  [say, vote, modi, welcome, bjp, told, rahul, m...   \n",
       "3  [asking, supporters, prefix, chowkidar, names,...   \n",
       "4  [answer, among, powerful, world, leader, today...   \n",
       "8  [upcoming, election, india, saga, going, impor...   \n",
       "\n",
       "                                            pos_tags  \\\n",
       "0  [(modi, NNS), (promised, VBD), (minimum, JJ), ...   \n",
       "2  [(say, VB), (vote, NN), (modi, FW), (welcome, ...   \n",
       "3  [(asking, VBG), (supporters, NNS), (prefix, VB...   \n",
       "4  [(answer, NN), (among, IN), (powerful, JJ), (w...   \n",
       "8  [(upcoming, JJ), (election, NN), (india, NN), ...   \n",
       "\n",
       "                                         wordnet_pos  \n",
       "0  [(modi, n), (promised, v), (minimum, a), (gove...  \n",
       "2  [(say, v), (vote, n), (modi, n), (welcome, a),...  \n",
       "3  [(asking, v), (supporters, n), (prefix, v), (c...  \n",
       "4  [(answer, n), (among, n), (powerful, a), (worl...  \n",
       "8  [(upcoming, a), (election, n), (india, n), (sa...  "
      ]
     },
     "execution_count": 20,
     "metadata": {},
     "output_type": "execute_result"
    }
   ],
   "source": [
    "def get_wordnet_pos(tag):\n",
    "    if tag.startswith('J'):\n",
    "        return wordnet.ADJ\n",
    "    elif tag.startswith('V'):\n",
    "        return wordnet.VERB\n",
    "    elif tag.startswith('N'):\n",
    "        return wordnet.NOUN\n",
    "    elif tag.startswith('R'):\n",
    "        return wordnet.ADV\n",
    "    else:\n",
    "        return wordnet.NOUN\n",
    "\n",
    "\n",
    "df['wordnet_pos'] = df['pos_tags'].apply(\n",
    "    lambda x: [(word, get_wordnet_pos(pos_tag)) for (word, pos_tag) in x])\n",
    "\n",
    "df.head()"
   ]
  },
  {
   "cell_type": "code",
   "execution_count": 21,
   "id": "3b4b1e63",
   "metadata": {
    "execution": {
     "iopub.execute_input": "2022-09-09T20:34:25.241791Z",
     "iopub.status.busy": "2022-09-09T20:34:25.241433Z",
     "iopub.status.idle": "2022-09-09T20:34:33.644082Z",
     "shell.execute_reply": "2022-09-09T20:34:33.643077Z"
    },
    "papermill": {
     "duration": 8.42579,
     "end_time": "2022-09-09T20:34:33.645894",
     "exception": false,
     "start_time": "2022-09-09T20:34:25.220104",
     "status": "completed"
    },
    "tags": []
   },
   "outputs": [
    {
     "data": {
      "text/html": [
       "<div>\n",
       "<style scoped>\n",
       "    .dataframe tbody tr th:only-of-type {\n",
       "        vertical-align: middle;\n",
       "    }\n",
       "\n",
       "    .dataframe tbody tr th {\n",
       "        vertical-align: top;\n",
       "    }\n",
       "\n",
       "    .dataframe thead th {\n",
       "        text-align: right;\n",
       "    }\n",
       "</style>\n",
       "<table border=\"1\" class=\"dataframe\">\n",
       "  <thead>\n",
       "    <tr style=\"text-align: right;\">\n",
       "      <th></th>\n",
       "      <th>clean_text</th>\n",
       "      <th>category</th>\n",
       "      <th>mod_text</th>\n",
       "      <th>tokenized</th>\n",
       "      <th>lower</th>\n",
       "      <th>stopwords_removed</th>\n",
       "      <th>pos_tags</th>\n",
       "      <th>wordnet_pos</th>\n",
       "      <th>lemmatized</th>\n",
       "      <th>lemma_str</th>\n",
       "    </tr>\n",
       "  </thead>\n",
       "  <tbody>\n",
       "    <tr>\n",
       "      <th>0</th>\n",
       "      <td>when modi promised “minimum government maximum...</td>\n",
       "      <td>NEGATIVE</td>\n",
       "      <td>when modi promised minimum government maximum ...</td>\n",
       "      <td>[when, modi, promised, minimum, government, ma...</td>\n",
       "      <td>[when, modi, promised, minimum, government, ma...</td>\n",
       "      <td>[modi, promised, minimum, government, maximum,...</td>\n",
       "      <td>[(modi, NNS), (promised, VBD), (minimum, JJ), ...</td>\n",
       "      <td>[(modi, n), (promised, v), (minimum, a), (gove...</td>\n",
       "      <td>[modi, promise, minimum, government, maximum, ...</td>\n",
       "      <td>modi promise minimum government maximum govern...</td>\n",
       "    </tr>\n",
       "    <tr>\n",
       "      <th>2</th>\n",
       "      <td>what did just say vote for modi  welcome bjp t...</td>\n",
       "      <td>POSITIVE</td>\n",
       "      <td>what did just say vote for modi  welcome bjp t...</td>\n",
       "      <td>[what, did, just, say, vote, for, modi, welcom...</td>\n",
       "      <td>[what, did, just, say, vote, for, modi, welcom...</td>\n",
       "      <td>[say, vote, modi, welcome, bjp, told, rahul, m...</td>\n",
       "      <td>[(say, VB), (vote, NN), (modi, FW), (welcome, ...</td>\n",
       "      <td>[(say, v), (vote, n), (modi, n), (welcome, a),...</td>\n",
       "      <td>[say, vote, modi, welcome, bjp, tell, rahul, m...</td>\n",
       "      <td>say vote modi welcome bjp tell rahul main camp...</td>\n",
       "    </tr>\n",
       "    <tr>\n",
       "      <th>3</th>\n",
       "      <td>asking his supporters prefix chowkidar their n...</td>\n",
       "      <td>POSITIVE</td>\n",
       "      <td>asking his supporters prefix chowkidar their n...</td>\n",
       "      <td>[asking, his, supporters, prefix, chowkidar, t...</td>\n",
       "      <td>[asking, his, supporters, prefix, chowkidar, t...</td>\n",
       "      <td>[asking, supporters, prefix, chowkidar, names,...</td>\n",
       "      <td>[(asking, VBG), (supporters, NNS), (prefix, VB...</td>\n",
       "      <td>[(asking, v), (supporters, n), (prefix, v), (c...</td>\n",
       "      <td>[ask, supporter, prefix, chowkidar, name, modi...</td>\n",
       "      <td>ask supporter prefix chowkidar name modi great...</td>\n",
       "    </tr>\n",
       "    <tr>\n",
       "      <th>4</th>\n",
       "      <td>answer who among these the most powerful world...</td>\n",
       "      <td>POSITIVE</td>\n",
       "      <td>answer who among these the most powerful world...</td>\n",
       "      <td>[answer, who, among, these, the, most, powerfu...</td>\n",
       "      <td>[answer, who, among, these, the, most, powerfu...</td>\n",
       "      <td>[answer, among, powerful, world, leader, today...</td>\n",
       "      <td>[(answer, NN), (among, IN), (powerful, JJ), (w...</td>\n",
       "      <td>[(answer, n), (among, n), (powerful, a), (worl...</td>\n",
       "      <td>[answer, among, powerful, world, leader, today...</td>\n",
       "      <td>answer among powerful world leader today trump...</td>\n",
       "    </tr>\n",
       "    <tr>\n",
       "      <th>8</th>\n",
       "      <td>with upcoming election india saga going import...</td>\n",
       "      <td>POSITIVE</td>\n",
       "      <td>with upcoming election india saga going import...</td>\n",
       "      <td>[with, upcoming, election, india, saga, going,...</td>\n",
       "      <td>[with, upcoming, election, india, saga, going,...</td>\n",
       "      <td>[upcoming, election, india, saga, going, impor...</td>\n",
       "      <td>[(upcoming, JJ), (election, NN), (india, NN), ...</td>\n",
       "      <td>[(upcoming, a), (election, n), (india, n), (sa...</td>\n",
       "      <td>[upcoming, election, india, saga, go, importan...</td>\n",
       "      <td>upcoming election india saga go important pair...</td>\n",
       "    </tr>\n",
       "  </tbody>\n",
       "</table>\n",
       "</div>"
      ],
      "text/plain": [
       "                                          clean_text  category  \\\n",
       "0  when modi promised “minimum government maximum...  NEGATIVE   \n",
       "2  what did just say vote for modi  welcome bjp t...  POSITIVE   \n",
       "3  asking his supporters prefix chowkidar their n...  POSITIVE   \n",
       "4  answer who among these the most powerful world...  POSITIVE   \n",
       "8  with upcoming election india saga going import...  POSITIVE   \n",
       "\n",
       "                                            mod_text  \\\n",
       "0  when modi promised minimum government maximum ...   \n",
       "2  what did just say vote for modi  welcome bjp t...   \n",
       "3  asking his supporters prefix chowkidar their n...   \n",
       "4  answer who among these the most powerful world...   \n",
       "8  with upcoming election india saga going import...   \n",
       "\n",
       "                                           tokenized  \\\n",
       "0  [when, modi, promised, minimum, government, ma...   \n",
       "2  [what, did, just, say, vote, for, modi, welcom...   \n",
       "3  [asking, his, supporters, prefix, chowkidar, t...   \n",
       "4  [answer, who, among, these, the, most, powerfu...   \n",
       "8  [with, upcoming, election, india, saga, going,...   \n",
       "\n",
       "                                               lower  \\\n",
       "0  [when, modi, promised, minimum, government, ma...   \n",
       "2  [what, did, just, say, vote, for, modi, welcom...   \n",
       "3  [asking, his, supporters, prefix, chowkidar, t...   \n",
       "4  [answer, who, among, these, the, most, powerfu...   \n",
       "8  [with, upcoming, election, india, saga, going,...   \n",
       "\n",
       "                                   stopwords_removed  \\\n",
       "0  [modi, promised, minimum, government, maximum,...   \n",
       "2  [say, vote, modi, welcome, bjp, told, rahul, m...   \n",
       "3  [asking, supporters, prefix, chowkidar, names,...   \n",
       "4  [answer, among, powerful, world, leader, today...   \n",
       "8  [upcoming, election, india, saga, going, impor...   \n",
       "\n",
       "                                            pos_tags  \\\n",
       "0  [(modi, NNS), (promised, VBD), (minimum, JJ), ...   \n",
       "2  [(say, VB), (vote, NN), (modi, FW), (welcome, ...   \n",
       "3  [(asking, VBG), (supporters, NNS), (prefix, VB...   \n",
       "4  [(answer, NN), (among, IN), (powerful, JJ), (w...   \n",
       "8  [(upcoming, JJ), (election, NN), (india, NN), ...   \n",
       "\n",
       "                                         wordnet_pos  \\\n",
       "0  [(modi, n), (promised, v), (minimum, a), (gove...   \n",
       "2  [(say, v), (vote, n), (modi, n), (welcome, a),...   \n",
       "3  [(asking, v), (supporters, n), (prefix, v), (c...   \n",
       "4  [(answer, n), (among, n), (powerful, a), (worl...   \n",
       "8  [(upcoming, a), (election, n), (india, n), (sa...   \n",
       "\n",
       "                                          lemmatized  \\\n",
       "0  [modi, promise, minimum, government, maximum, ...   \n",
       "2  [say, vote, modi, welcome, bjp, tell, rahul, m...   \n",
       "3  [ask, supporter, prefix, chowkidar, name, modi...   \n",
       "4  [answer, among, powerful, world, leader, today...   \n",
       "8  [upcoming, election, india, saga, go, importan...   \n",
       "\n",
       "                                           lemma_str  \n",
       "0  modi promise minimum government maximum govern...  \n",
       "2  say vote modi welcome bjp tell rahul main camp...  \n",
       "3  ask supporter prefix chowkidar name modi great...  \n",
       "4  answer among powerful world leader today trump...  \n",
       "8  upcoming election india saga go important pair...  "
      ]
     },
     "execution_count": 21,
     "metadata": {},
     "output_type": "execute_result"
    }
   ],
   "source": [
    "# Applying word lemmatizer.\n",
    "\n",
    "wnl = WordNetLemmatizer()\n",
    "\n",
    "df['lemmatized'] = df['wordnet_pos'].apply(\n",
    "    lambda x: [wnl.lemmatize(word, tag) for word, tag in x])\n",
    "\n",
    "df['lemmatized'] = df['lemmatized'].apply(\n",
    "    lambda x: [word for word in x if word not in stop_words])\n",
    "\n",
    "df['lemma_str'] = [' '.join(map(str, l)) for l in df['lemmatized']]\n",
    "\n",
    "df.head()"
   ]
  },
  {
   "cell_type": "code",
   "execution_count": 22,
   "id": "f30be958",
   "metadata": {
    "execution": {
     "iopub.execute_input": "2022-09-09T20:34:33.689489Z",
     "iopub.status.busy": "2022-09-09T20:34:33.688878Z",
     "iopub.status.idle": "2022-09-09T20:34:33.694871Z",
     "shell.execute_reply": "2022-09-09T20:34:33.693218Z"
    },
    "papermill": {
     "duration": 0.031225,
     "end_time": "2022-09-09T20:34:33.697794",
     "exception": false,
     "start_time": "2022-09-09T20:34:33.666569",
     "status": "completed"
    },
    "tags": []
   },
   "outputs": [
    {
     "name": "stdout",
     "output_type": "stream",
     "text": [
      "Total Rows = 107758\n"
     ]
    }
   ],
   "source": [
    "print(\"Total Rows =\", len(df.clean_text))"
   ]
  },
  {
   "cell_type": "code",
   "execution_count": 23,
   "id": "b4c2473a",
   "metadata": {
    "execution": {
     "iopub.execute_input": "2022-09-09T20:34:33.753846Z",
     "iopub.status.busy": "2022-09-09T20:34:33.753427Z",
     "iopub.status.idle": "2022-09-09T20:34:33.832206Z",
     "shell.execute_reply": "2022-09-09T20:34:33.830449Z"
    },
    "papermill": {
     "duration": 0.111766,
     "end_time": "2022-09-09T20:34:33.834908",
     "exception": false,
     "start_time": "2022-09-09T20:34:33.723142",
     "status": "completed"
    },
    "tags": []
   },
   "outputs": [
    {
     "data": {
      "text/html": [
       "<div>\n",
       "<style scoped>\n",
       "    .dataframe tbody tr th:only-of-type {\n",
       "        vertical-align: middle;\n",
       "    }\n",
       "\n",
       "    .dataframe tbody tr th {\n",
       "        vertical-align: top;\n",
       "    }\n",
       "\n",
       "    .dataframe thead th {\n",
       "        text-align: right;\n",
       "    }\n",
       "</style>\n",
       "<table border=\"1\" class=\"dataframe\">\n",
       "  <thead>\n",
       "    <tr style=\"text-align: right;\">\n",
       "      <th></th>\n",
       "      <th>clean_text</th>\n",
       "      <th>category</th>\n",
       "      <th>mod_text</th>\n",
       "      <th>tokenized</th>\n",
       "      <th>lower</th>\n",
       "      <th>stopwords_removed</th>\n",
       "      <th>pos_tags</th>\n",
       "      <th>wordnet_pos</th>\n",
       "      <th>lemmatized</th>\n",
       "      <th>lemma_str</th>\n",
       "    </tr>\n",
       "  </thead>\n",
       "  <tbody>\n",
       "    <tr>\n",
       "      <th>0</th>\n",
       "      <td>when modi promised “minimum government maximum...</td>\n",
       "      <td>NEGATIVE</td>\n",
       "      <td>when modi promised minimum government maximum ...</td>\n",
       "      <td>[when, modi, promised, minimum, government, ma...</td>\n",
       "      <td>[when, modi, promised, minimum, government, ma...</td>\n",
       "      <td>[modi, promised, minimum, government, maximum,...</td>\n",
       "      <td>[(modi, NNS), (promised, VBD), (minimum, JJ), ...</td>\n",
       "      <td>[(modi, n), (promised, v), (minimum, a), (gove...</td>\n",
       "      <td>[modi, promise, minimum, government, maximum, ...</td>\n",
       "      <td>modi promise minimum government maximum govern...</td>\n",
       "    </tr>\n",
       "    <tr>\n",
       "      <th>2</th>\n",
       "      <td>what did just say vote for modi  welcome bjp t...</td>\n",
       "      <td>POSITIVE</td>\n",
       "      <td>what did just say vote for modi  welcome bjp t...</td>\n",
       "      <td>[what, did, just, say, vote, for, modi, welcom...</td>\n",
       "      <td>[what, did, just, say, vote, for, modi, welcom...</td>\n",
       "      <td>[say, vote, modi, welcome, bjp, told, rahul, m...</td>\n",
       "      <td>[(say, VB), (vote, NN), (modi, FW), (welcome, ...</td>\n",
       "      <td>[(say, v), (vote, n), (modi, n), (welcome, a),...</td>\n",
       "      <td>[say, vote, modi, welcome, bjp, tell, rahul, m...</td>\n",
       "      <td>say vote modi welcome bjp tell rahul main camp...</td>\n",
       "    </tr>\n",
       "    <tr>\n",
       "      <th>3</th>\n",
       "      <td>asking his supporters prefix chowkidar their n...</td>\n",
       "      <td>POSITIVE</td>\n",
       "      <td>asking his supporters prefix chowkidar their n...</td>\n",
       "      <td>[asking, his, supporters, prefix, chowkidar, t...</td>\n",
       "      <td>[asking, his, supporters, prefix, chowkidar, t...</td>\n",
       "      <td>[asking, supporters, prefix, chowkidar, names,...</td>\n",
       "      <td>[(asking, VBG), (supporters, NNS), (prefix, VB...</td>\n",
       "      <td>[(asking, v), (supporters, n), (prefix, v), (c...</td>\n",
       "      <td>[ask, supporter, prefix, chowkidar, name, modi...</td>\n",
       "      <td>ask supporter prefix chowkidar name modi great...</td>\n",
       "    </tr>\n",
       "    <tr>\n",
       "      <th>4</th>\n",
       "      <td>answer who among these the most powerful world...</td>\n",
       "      <td>POSITIVE</td>\n",
       "      <td>answer who among these the most powerful world...</td>\n",
       "      <td>[answer, who, among, these, the, most, powerfu...</td>\n",
       "      <td>[answer, who, among, these, the, most, powerfu...</td>\n",
       "      <td>[answer, among, powerful, world, leader, today...</td>\n",
       "      <td>[(answer, NN), (among, IN), (powerful, JJ), (w...</td>\n",
       "      <td>[(answer, n), (among, n), (powerful, a), (worl...</td>\n",
       "      <td>[answer, among, powerful, world, leader, today...</td>\n",
       "      <td>answer among powerful world leader today trump...</td>\n",
       "    </tr>\n",
       "    <tr>\n",
       "      <th>8</th>\n",
       "      <td>with upcoming election india saga going import...</td>\n",
       "      <td>POSITIVE</td>\n",
       "      <td>with upcoming election india saga going import...</td>\n",
       "      <td>[with, upcoming, election, india, saga, going,...</td>\n",
       "      <td>[with, upcoming, election, india, saga, going,...</td>\n",
       "      <td>[upcoming, election, india, saga, going, impor...</td>\n",
       "      <td>[(upcoming, JJ), (election, NN), (india, NN), ...</td>\n",
       "      <td>[(upcoming, a), (election, n), (india, n), (sa...</td>\n",
       "      <td>[upcoming, election, india, saga, go, importan...</td>\n",
       "      <td>upcoming election india saga go important pair...</td>\n",
       "    </tr>\n",
       "  </tbody>\n",
       "</table>\n",
       "</div>"
      ],
      "text/plain": [
       "                                          clean_text  category  \\\n",
       "0  when modi promised “minimum government maximum...  NEGATIVE   \n",
       "2  what did just say vote for modi  welcome bjp t...  POSITIVE   \n",
       "3  asking his supporters prefix chowkidar their n...  POSITIVE   \n",
       "4  answer who among these the most powerful world...  POSITIVE   \n",
       "8  with upcoming election india saga going import...  POSITIVE   \n",
       "\n",
       "                                            mod_text  \\\n",
       "0  when modi promised minimum government maximum ...   \n",
       "2  what did just say vote for modi  welcome bjp t...   \n",
       "3  asking his supporters prefix chowkidar their n...   \n",
       "4  answer who among these the most powerful world...   \n",
       "8  with upcoming election india saga going import...   \n",
       "\n",
       "                                           tokenized  \\\n",
       "0  [when, modi, promised, minimum, government, ma...   \n",
       "2  [what, did, just, say, vote, for, modi, welcom...   \n",
       "3  [asking, his, supporters, prefix, chowkidar, t...   \n",
       "4  [answer, who, among, these, the, most, powerfu...   \n",
       "8  [with, upcoming, election, india, saga, going,...   \n",
       "\n",
       "                                               lower  \\\n",
       "0  [when, modi, promised, minimum, government, ma...   \n",
       "2  [what, did, just, say, vote, for, modi, welcom...   \n",
       "3  [asking, his, supporters, prefix, chowkidar, t...   \n",
       "4  [answer, who, among, these, the, most, powerfu...   \n",
       "8  [with, upcoming, election, india, saga, going,...   \n",
       "\n",
       "                                   stopwords_removed  \\\n",
       "0  [modi, promised, minimum, government, maximum,...   \n",
       "2  [say, vote, modi, welcome, bjp, told, rahul, m...   \n",
       "3  [asking, supporters, prefix, chowkidar, names,...   \n",
       "4  [answer, among, powerful, world, leader, today...   \n",
       "8  [upcoming, election, india, saga, going, impor...   \n",
       "\n",
       "                                            pos_tags  \\\n",
       "0  [(modi, NNS), (promised, VBD), (minimum, JJ), ...   \n",
       "2  [(say, VB), (vote, NN), (modi, FW), (welcome, ...   \n",
       "3  [(asking, VBG), (supporters, NNS), (prefix, VB...   \n",
       "4  [(answer, NN), (among, IN), (powerful, JJ), (w...   \n",
       "8  [(upcoming, JJ), (election, NN), (india, NN), ...   \n",
       "\n",
       "                                         wordnet_pos  \\\n",
       "0  [(modi, n), (promised, v), (minimum, a), (gove...   \n",
       "2  [(say, v), (vote, n), (modi, n), (welcome, a),...   \n",
       "3  [(asking, v), (supporters, n), (prefix, v), (c...   \n",
       "4  [(answer, n), (among, n), (powerful, a), (worl...   \n",
       "8  [(upcoming, a), (election, n), (india, n), (sa...   \n",
       "\n",
       "                                          lemmatized  \\\n",
       "0  [modi, promise, minimum, government, maximum, ...   \n",
       "2  [say, vote, modi, welcome, bjp, tell, rahul, m...   \n",
       "3  [ask, supporter, prefix, chowkidar, name, modi...   \n",
       "4  [answer, among, powerful, world, leader, today...   \n",
       "8  [upcoming, election, india, saga, go, importan...   \n",
       "\n",
       "                                           lemma_str  \n",
       "0  modi promise minimum government maximum govern...  \n",
       "2  say vote modi welcome bjp tell rahul main camp...  \n",
       "3  ask supporter prefix chowkidar name modi great...  \n",
       "4  answer among powerful world leader today trump...  \n",
       "8  upcoming election india saga go important pair...  "
      ]
     },
     "execution_count": 23,
     "metadata": {},
     "output_type": "execute_result"
    }
   ],
   "source": [
    "df.head()"
   ]
  },
  {
   "cell_type": "code",
   "execution_count": 24,
   "id": "21a0c8c5",
   "metadata": {
    "execution": {
     "iopub.execute_input": "2022-09-09T20:34:33.881349Z",
     "iopub.status.busy": "2022-09-09T20:34:33.880984Z",
     "iopub.status.idle": "2022-09-09T20:34:33.946973Z",
     "shell.execute_reply": "2022-09-09T20:34:33.945094Z"
    },
    "papermill": {
     "duration": 0.092661,
     "end_time": "2022-09-09T20:34:33.949535",
     "exception": false,
     "start_time": "2022-09-09T20:34:33.856874",
     "status": "completed"
    },
    "tags": []
   },
   "outputs": [
    {
     "data": {
      "text/html": [
       "<div>\n",
       "<style scoped>\n",
       "    .dataframe tbody tr th:only-of-type {\n",
       "        vertical-align: middle;\n",
       "    }\n",
       "\n",
       "    .dataframe tbody tr th {\n",
       "        vertical-align: top;\n",
       "    }\n",
       "\n",
       "    .dataframe thead th {\n",
       "        text-align: right;\n",
       "    }\n",
       "</style>\n",
       "<table border=\"1\" class=\"dataframe\">\n",
       "  <thead>\n",
       "    <tr style=\"text-align: right;\">\n",
       "      <th></th>\n",
       "      <th>lemma_str</th>\n",
       "      <th>category</th>\n",
       "    </tr>\n",
       "  </thead>\n",
       "  <tbody>\n",
       "    <tr>\n",
       "      <th>0</th>\n",
       "      <td>modi promise minimum government maximum govern...</td>\n",
       "      <td>NEGATIVE</td>\n",
       "    </tr>\n",
       "    <tr>\n",
       "      <th>2</th>\n",
       "      <td>say vote modi welcome bjp tell rahul main camp...</td>\n",
       "      <td>POSITIVE</td>\n",
       "    </tr>\n",
       "    <tr>\n",
       "      <th>3</th>\n",
       "      <td>ask supporter prefix chowkidar name modi great...</td>\n",
       "      <td>POSITIVE</td>\n",
       "    </tr>\n",
       "    <tr>\n",
       "      <th>4</th>\n",
       "      <td>answer among powerful world leader today trump...</td>\n",
       "      <td>POSITIVE</td>\n",
       "    </tr>\n",
       "    <tr>\n",
       "      <th>8</th>\n",
       "      <td>upcoming election india saga go important pair...</td>\n",
       "      <td>POSITIVE</td>\n",
       "    </tr>\n",
       "  </tbody>\n",
       "</table>\n",
       "</div>"
      ],
      "text/plain": [
       "                                           lemma_str  category\n",
       "0  modi promise minimum government maximum govern...  NEGATIVE\n",
       "2  say vote modi welcome bjp tell rahul main camp...  POSITIVE\n",
       "3  ask supporter prefix chowkidar name modi great...  POSITIVE\n",
       "4  answer among powerful world leader today trump...  POSITIVE\n",
       "8  upcoming election india saga go important pair...  POSITIVE"
      ]
     },
     "execution_count": 24,
     "metadata": {},
     "output_type": "execute_result"
    }
   ],
   "source": [
    "df_mod = df[[\"lemma_str\", \"category\"]]\n",
    "df_mod.head()"
   ]
  },
  {
   "cell_type": "markdown",
   "id": "d3ef4052",
   "metadata": {
    "papermill": {
     "duration": 0.021035,
     "end_time": "2022-09-09T20:34:33.991105",
     "exception": false,
     "start_time": "2022-09-09T20:34:33.970070",
     "status": "completed"
    },
    "tags": []
   },
   "source": [
    "### **Step - 2.4 :** Train-Test Split"
   ]
  },
  {
   "cell_type": "code",
   "execution_count": 25,
   "id": "e1f2af5e",
   "metadata": {
    "execution": {
     "iopub.execute_input": "2022-09-09T20:34:34.035818Z",
     "iopub.status.busy": "2022-09-09T20:34:34.034741Z",
     "iopub.status.idle": "2022-09-09T20:34:34.057266Z",
     "shell.execute_reply": "2022-09-09T20:34:34.056261Z"
    },
    "papermill": {
     "duration": 0.046858,
     "end_time": "2022-09-09T20:34:34.059523",
     "exception": false,
     "start_time": "2022-09-09T20:34:34.012665",
     "status": "completed"
    },
    "tags": []
   },
   "outputs": [
    {
     "name": "stdout",
     "output_type": "stream",
     "text": [
      "TRAIN size: 86206\n",
      "TEST size: 21552\n"
     ]
    }
   ],
   "source": [
    "df_train, df_test = train_test_split(df_mod, test_size=1-TRAIN_SIZE, random_state=42)\n",
    "print(\"TRAIN size:\", len(df_train))\n",
    "print(\"TEST size:\", len(df_test))"
   ]
  },
  {
   "cell_type": "markdown",
   "id": "aeef4b97",
   "metadata": {
    "papermill": {
     "duration": 0.020506,
     "end_time": "2022-09-09T20:34:34.100953",
     "exception": false,
     "start_time": "2022-09-09T20:34:34.080447",
     "status": "completed"
    },
    "tags": []
   },
   "source": [
    "## **Step - 3 :** *Word Cloud Analysis*"
   ]
  },
  {
   "cell_type": "code",
   "execution_count": 26,
   "id": "06c96c64",
   "metadata": {
    "execution": {
     "iopub.execute_input": "2022-09-09T20:34:34.145766Z",
     "iopub.status.busy": "2022-09-09T20:34:34.144708Z",
     "iopub.status.idle": "2022-09-09T20:34:34.154021Z",
     "shell.execute_reply": "2022-09-09T20:34:34.153148Z"
    },
    "papermill": {
     "duration": 0.033815,
     "end_time": "2022-09-09T20:34:34.156027",
     "exception": false,
     "start_time": "2022-09-09T20:34:34.122212",
     "status": "completed"
    },
    "tags": []
   },
   "outputs": [],
   "source": [
    "def plot_wordcloud(text, mask, title, title_size, figure_size=(24.0,16.0), image_color=False):\n",
    "    \"\"\" A function for creating wordcloud images \"\"\"\n",
    "    words = text\n",
    "    allwords = []\n",
    "    for wordlist in words:\n",
    "        allwords += wordlist\n",
    "    mostcommon = FreqDist(allwords).most_common(140)\n",
    "    wordcloud = WordCloud(\n",
    "                    background_color='white',\n",
    "                    stopwords = stop_words,\n",
    "                    max_words = 140,\n",
    "                    max_font_size = 120, \n",
    "                    random_state = 42,\n",
    "                    mask = mask,\n",
    "    ).generate(str(mostcommon))        \n",
    "    \n",
    "    ########\n",
    "    \n",
    "    plt.figure(figsize=figure_size)\n",
    "    if image_color:\n",
    "        image_colors = ImageColorGenerator(mask);\n",
    "        plt.imshow(wordcloud.recolor(color_func=image_colors), interpolation=\"bilinear\");\n",
    "        plt.title(title, fontdict={'size': title_size,  \n",
    "                                  'verticalalignment': 'bottom'})\n",
    "    else:\n",
    "        plt.imshow(wordcloud);\n",
    "        plt.title(title, fontdict={'size': title_size, 'color': 'green', \n",
    "                                  'verticalalignment': 'bottom'})\n",
    "    plt.axis('off');\n",
    "    plt.tight_layout()  \n",
    "    "
   ]
  },
  {
   "cell_type": "code",
   "execution_count": 27,
   "id": "044f20d0",
   "metadata": {
    "execution": {
     "iopub.execute_input": "2022-09-09T20:34:34.201230Z",
     "iopub.status.busy": "2022-09-09T20:34:34.199565Z",
     "iopub.status.idle": "2022-09-09T20:34:41.496019Z",
     "shell.execute_reply": "2022-09-09T20:34:41.494653Z"
    },
    "papermill": {
     "duration": 7.322361,
     "end_time": "2022-09-09T20:34:41.499614",
     "exception": false,
     "start_time": "2022-09-09T20:34:34.177253",
     "status": "completed"
    },
    "tags": []
   },
   "outputs": [
    {
     "data": {
      "image/png": "[encoded data removed]",
      "text/plain": [
       "<Figure size 1728x1152 with 1 Axes>"
      ]
     },
     "metadata": {},
     "output_type": "display_data"
    }
   ],
   "source": [
    "comments_mask = np.array(Image.open('../input/masks/comment.png'))\n",
    "plot_wordcloud(df['lemmatized'], comments_mask,\n",
    "               'Most Common Words',\n",
    "               title_size=30)"
   ]
  },
  {
   "cell_type": "markdown",
   "id": "3dcdab02",
   "metadata": {
    "papermill": {
     "duration": 0.028004,
     "end_time": "2022-09-09T20:34:41.554295",
     "exception": false,
     "start_time": "2022-09-09T20:34:41.526291",
     "status": "completed"
    },
    "tags": []
   },
   "source": [
    "## **Step - 4 :** *Word2Vec Analysis*"
   ]
  },
  {
   "cell_type": "markdown",
   "id": "7f3ea034",
   "metadata": {
    "papermill": {
     "duration": 0.02788,
     "end_time": "2022-09-09T20:34:41.612629",
     "exception": false,
     "start_time": "2022-09-09T20:34:41.584749",
     "status": "completed"
    },
    "tags": []
   },
   "source": [
    "### **Step - 4.1 :** Corpus Creation"
   ]
  },
  {
   "cell_type": "code",
   "execution_count": 28,
   "id": "ac3927b4",
   "metadata": {
    "execution": {
     "iopub.execute_input": "2022-09-09T20:34:41.668644Z",
     "iopub.status.busy": "2022-09-09T20:34:41.667789Z",
     "iopub.status.idle": "2022-09-09T20:34:42.581958Z",
     "shell.execute_reply": "2022-09-09T20:34:42.581289Z"
    },
    "papermill": {
     "duration": 0.944222,
     "end_time": "2022-09-09T20:34:42.584176",
     "exception": false,
     "start_time": "2022-09-09T20:34:41.639954",
     "status": "completed"
    },
    "tags": []
   },
   "outputs": [
    {
     "name": "stdout",
     "output_type": "stream",
     "text": [
      "CPU times: user 885 ms, sys: 23 ms, total: 908 ms\n",
      "Wall time: 909 ms\n"
     ]
    }
   ],
   "source": [
    "%%time\n",
    "documents = [text.split() for text in df_train.lemma_str] "
   ]
  },
  {
   "cell_type": "markdown",
   "id": "73818971",
   "metadata": {
    "papermill": {
     "duration": 0.03275,
     "end_time": "2022-09-09T20:34:42.648394",
     "exception": false,
     "start_time": "2022-09-09T20:34:42.615644",
     "status": "completed"
    },
    "tags": []
   },
   "source": [
    "### **Step - 4.2 :** Word2Vec Model Creation"
   ]
  },
  {
   "cell_type": "code",
   "execution_count": 29,
   "id": "e1cd2073",
   "metadata": {
    "execution": {
     "iopub.execute_input": "2022-09-09T20:34:42.707175Z",
     "iopub.status.busy": "2022-09-09T20:34:42.706386Z",
     "iopub.status.idle": "2022-09-09T20:34:42.712867Z",
     "shell.execute_reply": "2022-09-09T20:34:42.711939Z"
    },
    "papermill": {
     "duration": 0.036161,
     "end_time": "2022-09-09T20:34:42.714915",
     "exception": false,
     "start_time": "2022-09-09T20:34:42.678754",
     "status": "completed"
    },
    "tags": []
   },
   "outputs": [],
   "source": [
    "w2v_model = gensim.models.word2vec.Word2Vec(vector_size=W2V_SIZE, \n",
    "                                            window=W2V_WINDOW, \n",
    "                                            min_count=W2V_MIN_COUNT, \n",
    "                                            workers=8)"
   ]
  },
  {
   "cell_type": "markdown",
   "id": "118f2037",
   "metadata": {
    "papermill": {
     "duration": 0.026987,
     "end_time": "2022-09-09T20:34:42.768501",
     "exception": false,
     "start_time": "2022-09-09T20:34:42.741514",
     "status": "completed"
    },
    "tags": []
   },
   "source": [
    "### **Step - 4.3 :** Vocab Creation"
   ]
  },
  {
   "cell_type": "code",
   "execution_count": 30,
   "id": "d19574e3",
   "metadata": {
    "execution": {
     "iopub.execute_input": "2022-09-09T20:34:42.824467Z",
     "iopub.status.busy": "2022-09-09T20:34:42.824097Z",
     "iopub.status.idle": "2022-09-09T20:34:43.396656Z",
     "shell.execute_reply": "2022-09-09T20:34:43.395689Z"
    },
    "papermill": {
     "duration": 0.60381,
     "end_time": "2022-09-09T20:34:43.399053",
     "exception": false,
     "start_time": "2022-09-09T20:34:42.795243",
     "status": "completed"
    },
    "tags": []
   },
   "outputs": [],
   "source": [
    "w2v_model.build_vocab(documents)"
   ]
  },
  {
   "cell_type": "code",
   "execution_count": 31,
   "id": "2246d9f6",
   "metadata": {
    "execution": {
     "iopub.execute_input": "2022-09-09T20:34:43.453419Z",
     "iopub.status.busy": "2022-09-09T20:34:43.452713Z",
     "iopub.status.idle": "2022-09-09T20:34:43.458605Z",
     "shell.execute_reply": "2022-09-09T20:34:43.457327Z"
    },
    "papermill": {
     "duration": 0.036699,
     "end_time": "2022-09-09T20:34:43.461442",
     "exception": false,
     "start_time": "2022-09-09T20:34:43.424743",
     "status": "completed"
    },
    "tags": []
   },
   "outputs": [
    {
     "name": "stdout",
     "output_type": "stream",
     "text": [
      "Vocab size 8353\n"
     ]
    }
   ],
   "source": [
    "words = w2v_model.wv.key_to_index.keys()\n",
    "vocab_size = len(words)\n",
    "print(\"Vocab size\", vocab_size)\n"
   ]
  },
  {
   "cell_type": "markdown",
   "id": "f2ee7a21",
   "metadata": {
    "papermill": {
     "duration": 0.026651,
     "end_time": "2022-09-09T20:34:43.514727",
     "exception": false,
     "start_time": "2022-09-09T20:34:43.488076",
     "status": "completed"
    },
    "tags": []
   },
   "source": [
    "### **Step - 4.4 :** Training Word2Vec Model"
   ]
  },
  {
   "cell_type": "code",
   "execution_count": 32,
   "id": "033eb18a",
   "metadata": {
    "execution": {
     "iopub.execute_input": "2022-09-09T20:34:43.569171Z",
     "iopub.status.busy": "2022-09-09T20:34:43.568468Z",
     "iopub.status.idle": "2022-09-09T20:35:28.628621Z",
     "shell.execute_reply": "2022-09-09T20:35:28.627678Z"
    },
    "papermill": {
     "duration": 45.114566,
     "end_time": "2022-09-09T20:35:28.655333",
     "exception": false,
     "start_time": "2022-09-09T20:34:43.540767",
     "status": "completed"
    },
    "tags": []
   },
   "outputs": [
    {
     "name": "stdout",
     "output_type": "stream",
     "text": [
      "CPU times: user 2min 47s, sys: 1.03 s, total: 2min 48s\n",
      "Wall time: 45.1 s\n"
     ]
    },
    {
     "data": {
      "text/plain": [
       "(37098929, 45364480)"
      ]
     },
     "execution_count": 32,
     "metadata": {},
     "output_type": "execute_result"
    }
   ],
   "source": [
    "%%time\n",
    "w2v_model.train(documents, total_examples=len(documents), epochs=W2V_EPOCH)"
   ]
  },
  {
   "cell_type": "markdown",
   "id": "0179f262",
   "metadata": {
    "papermill": {
     "duration": 0.025678,
     "end_time": "2022-09-09T20:35:28.707392",
     "exception": false,
     "start_time": "2022-09-09T20:35:28.681714",
     "status": "completed"
    },
    "tags": []
   },
   "source": [
    "### **Step - 4.5 :** Word2Vec Model Testing"
   ]
  },
  {
   "cell_type": "code",
   "execution_count": 33,
   "id": "8191de24",
   "metadata": {
    "execution": {
     "iopub.execute_input": "2022-09-09T20:35:28.761114Z",
     "iopub.status.busy": "2022-09-09T20:35:28.760352Z",
     "iopub.status.idle": "2022-09-09T20:35:28.779189Z",
     "shell.execute_reply": "2022-09-09T20:35:28.778364Z"
    },
    "papermill": {
     "duration": 0.048028,
     "end_time": "2022-09-09T20:35:28.781155",
     "exception": false,
     "start_time": "2022-09-09T20:35:28.733127",
     "status": "completed"
    },
    "tags": []
   },
   "outputs": [
    {
     "data": {
      "text/plain": [
       "[('trs', 0.4600799083709717),\n",
       " ('cadre', 0.43543779850006104),\n",
       " ('party', 0.4308907687664032),\n",
       " ('ncp', 0.3944278955459595),\n",
       " ('jds', 0.39023858308792114),\n",
       " ('congress', 0.3722050189971924),\n",
       " ('coalition', 0.3686937093734741),\n",
       " ('karnataka', 0.3561239540576935),\n",
       " ('candidate', 0.3526383638381958),\n",
       " ('dmk', 0.3490298092365265)]"
      ]
     },
     "execution_count": 33,
     "metadata": {},
     "output_type": "execute_result"
    }
   ],
   "source": [
    "w2v_model.wv.most_similar(\"bjp\")"
   ]
  },
  {
   "cell_type": "markdown",
   "id": "8eddf1ef",
   "metadata": {
    "papermill": {
     "duration": 0.037291,
     "end_time": "2022-09-09T20:35:28.854590",
     "exception": false,
     "start_time": "2022-09-09T20:35:28.817299",
     "status": "completed"
    },
    "tags": []
   },
   "source": [
    "## **Step - 5 :** *Sentiment Analysis using Deep-Learning Model*"
   ]
  },
  {
   "cell_type": "markdown",
   "id": "9d9e4d8b",
   "metadata": {
    "papermill": {
     "duration": 0.026159,
     "end_time": "2022-09-09T20:35:28.917751",
     "exception": false,
     "start_time": "2022-09-09T20:35:28.891592",
     "status": "completed"
    },
    "tags": []
   },
   "source": [
    "**Deep learning** can be considered as a subset of machine learning. It is a field that is based on learning and improving on its own by examining computer algorithms. While machine learning uses simpler concepts, deep learning works with artificial neural networks, which are designed to imitate how humans think and learn. Until recently, neural networks were limited by computing power and thus were limited in complexity. However, advancements in Big Data analytics have permitted larger, sophisticated neural networks, allowing computers to observe, learn, and react to complex situations faster than humans. Deep learning has aided image classification, language translation, speech recognition. It can be used to solve any pattern recognition problem and without human intervention.\n",
    "\n",
    "\n",
    "![](https://www.mdpi.com/electronics/electronics-09-00483/article_deploy/html/images/electronics-09-00483-g001.png)"
   ]
  },
  {
   "cell_type": "markdown",
   "id": "8e62a676",
   "metadata": {
    "papermill": {
     "duration": 0.026877,
     "end_time": "2022-09-09T20:35:28.971290",
     "exception": false,
     "start_time": "2022-09-09T20:35:28.944413",
     "status": "completed"
    },
    "tags": []
   },
   "source": [
    "**Long short-term memory (LSTM)** is an artificial recurrent neural network architecture used in the field of deep learning.\n",
    "Unlike standard feedforward neural networks, LSTM has feedback connections.\n",
    "It never keeps the entire data like standard recurrent neural network, lstm keeps short-term memory of data.\n",
    "\n",
    "![](https://miro.medium.com/max/489/1*27JmK8VBdphpSCWNb4MhNA.png)"
   ]
  },
  {
   "cell_type": "markdown",
   "id": "026ec6b4",
   "metadata": {
    "papermill": {
     "duration": 0.025464,
     "end_time": "2022-09-09T20:35:29.023299",
     "exception": false,
     "start_time": "2022-09-09T20:35:28.997835",
     "status": "completed"
    },
    "tags": []
   },
   "source": [
    "### **Step - 5.1 :** Token and Vocab Creation"
   ]
  },
  {
   "cell_type": "code",
   "execution_count": 34,
   "id": "992efcf4",
   "metadata": {
    "execution": {
     "iopub.execute_input": "2022-09-09T20:35:29.077458Z",
     "iopub.status.busy": "2022-09-09T20:35:29.077109Z",
     "iopub.status.idle": "2022-09-09T20:35:31.018698Z",
     "shell.execute_reply": "2022-09-09T20:35:31.017730Z"
    },
    "papermill": {
     "duration": 1.971601,
     "end_time": "2022-09-09T20:35:31.021513",
     "exception": false,
     "start_time": "2022-09-09T20:35:29.049912",
     "status": "completed"
    },
    "tags": []
   },
   "outputs": [
    {
     "name": "stdout",
     "output_type": "stream",
     "text": [
      "Total words 70297\n",
      "CPU times: user 1.93 s, sys: 9.97 ms, total: 1.94 s\n",
      "Wall time: 1.94 s\n"
     ]
    }
   ],
   "source": [
    "%%time\n",
    "tokenizer = Tokenizer()\n",
    "tokenizer.fit_on_texts(df_train.lemma_str)\n",
    "\n",
    "vocab_size = len(tokenizer.word_index) + 1\n",
    "print(\"Total words\", vocab_size)"
   ]
  },
  {
   "cell_type": "code",
   "execution_count": 35,
   "id": "1f3e47e8",
   "metadata": {
    "execution": {
     "iopub.execute_input": "2022-09-09T20:35:31.081163Z",
     "iopub.status.busy": "2022-09-09T20:35:31.080798Z",
     "iopub.status.idle": "2022-09-09T20:35:33.307267Z",
     "shell.execute_reply": "2022-09-09T20:35:33.304461Z"
    },
    "papermill": {
     "duration": 2.258748,
     "end_time": "2022-09-09T20:35:33.310783",
     "exception": false,
     "start_time": "2022-09-09T20:35:31.052035",
     "status": "completed"
    },
    "tags": []
   },
   "outputs": [
    {
     "name": "stdout",
     "output_type": "stream",
     "text": [
      "CPU times: user 2.2 s, sys: 22 ms, total: 2.22 s\n",
      "Wall time: 2.22 s\n"
     ]
    }
   ],
   "source": [
    "%%time\n",
    "x_train = pad_sequences(tokenizer.texts_to_sequences(df_train.lemma_str), maxlen=SEQUENCE_LENGTH)\n",
    "x_test = pad_sequences(tokenizer.texts_to_sequences(df_test.lemma_str), maxlen=SEQUENCE_LENGTH)"
   ]
  },
  {
   "cell_type": "markdown",
   "id": "3f22a7fa",
   "metadata": {
    "papermill": {
     "duration": 0.027821,
     "end_time": "2022-09-09T20:35:33.367260",
     "exception": false,
     "start_time": "2022-09-09T20:35:33.339439",
     "status": "completed"
    },
    "tags": []
   },
   "source": [
    "### **Step - 5.2 :** Label Encoding"
   ]
  },
  {
   "cell_type": "code",
   "execution_count": 36,
   "id": "4f0efc22",
   "metadata": {
    "execution": {
     "iopub.execute_input": "2022-09-09T20:35:33.423151Z",
     "iopub.status.busy": "2022-09-09T20:35:33.422795Z",
     "iopub.status.idle": "2022-09-09T20:35:33.435296Z",
     "shell.execute_reply": "2022-09-09T20:35:33.434260Z"
    },
    "papermill": {
     "duration": 0.043239,
     "end_time": "2022-09-09T20:35:33.437389",
     "exception": false,
     "start_time": "2022-09-09T20:35:33.394150",
     "status": "completed"
    },
    "tags": []
   },
   "outputs": [
    {
     "data": {
      "text/plain": [
       "['POSITIVE', 'NEGATIVE', 'NEUTRAL']"
      ]
     },
     "execution_count": 36,
     "metadata": {},
     "output_type": "execute_result"
    }
   ],
   "source": [
    "labels = df_train.category.unique().tolist()\n",
    "labels.append(NEUTRAL)\n",
    "labels"
   ]
  },
  {
   "cell_type": "code",
   "execution_count": 37,
   "id": "bf9ef672",
   "metadata": {
    "execution": {
     "iopub.execute_input": "2022-09-09T20:35:33.494355Z",
     "iopub.status.busy": "2022-09-09T20:35:33.494015Z",
     "iopub.status.idle": "2022-09-09T20:35:33.591431Z",
     "shell.execute_reply": "2022-09-09T20:35:33.589828Z"
    },
    "papermill": {
     "duration": 0.129028,
     "end_time": "2022-09-09T20:35:33.594141",
     "exception": false,
     "start_time": "2022-09-09T20:35:33.465113",
     "status": "completed"
    },
    "tags": []
   },
   "outputs": [
    {
     "name": "stdout",
     "output_type": "stream",
     "text": [
      "y_train (86206, 1)\n",
      "y_test (21552, 1)\n"
     ]
    }
   ],
   "source": [
    "encoder = LabelEncoder()\n",
    "encoder.fit(df_train.category.tolist())\n",
    "\n",
    "y_train = encoder.transform(df_train.category.tolist())\n",
    "y_test = encoder.transform(df_test.category.tolist())\n",
    "\n",
    "y_train = y_train.reshape(-1,1)\n",
    "y_test = y_test.reshape(-1,1)\n",
    "\n",
    "print(\"y_train\",y_train.shape)\n",
    "print(\"y_test\",y_test.shape)"
   ]
  },
  {
   "cell_type": "code",
   "execution_count": 38,
   "id": "4698b528",
   "metadata": {
    "execution": {
     "iopub.execute_input": "2022-09-09T20:35:33.653110Z",
     "iopub.status.busy": "2022-09-09T20:35:33.652129Z",
     "iopub.status.idle": "2022-09-09T20:35:33.658582Z",
     "shell.execute_reply": "2022-09-09T20:35:33.657211Z"
    },
    "papermill": {
     "duration": 0.038914,
     "end_time": "2022-09-09T20:35:33.661604",
     "exception": false,
     "start_time": "2022-09-09T20:35:33.622690",
     "status": "completed"
    },
    "tags": []
   },
   "outputs": [
    {
     "name": "stdout",
     "output_type": "stream",
     "text": [
      "x_train (86206, 300)\n",
      "y_train (86206, 1)\n",
      "\n",
      "x_test (21552, 300)\n",
      "y_test (21552, 1)\n"
     ]
    }
   ],
   "source": [
    "print(\"x_train\", x_train.shape)\n",
    "print(\"y_train\", y_train.shape)\n",
    "print()\n",
    "print(\"x_test\", x_test.shape)\n",
    "print(\"y_test\", y_test.shape)"
   ]
  },
  {
   "cell_type": "code",
   "execution_count": 39,
   "id": "e4e88424",
   "metadata": {
    "execution": {
     "iopub.execute_input": "2022-09-09T20:35:33.721707Z",
     "iopub.status.busy": "2022-09-09T20:35:33.721340Z",
     "iopub.status.idle": "2022-09-09T20:35:33.727681Z",
     "shell.execute_reply": "2022-09-09T20:35:33.726862Z"
    },
    "papermill": {
     "duration": 0.037117,
     "end_time": "2022-09-09T20:35:33.729347",
     "exception": false,
     "start_time": "2022-09-09T20:35:33.692230",
     "status": "completed"
    },
    "tags": []
   },
   "outputs": [
    {
     "data": {
      "text/plain": [
       "array([[1],\n",
       "       [0],\n",
       "       [0],\n",
       "       [1],\n",
       "       [1],\n",
       "       [1],\n",
       "       [0],\n",
       "       [1],\n",
       "       [0],\n",
       "       [1]])"
      ]
     },
     "execution_count": 39,
     "metadata": {},
     "output_type": "execute_result"
    }
   ],
   "source": [
    "y_train[:10]"
   ]
  },
  {
   "cell_type": "markdown",
   "id": "8ccffe5e",
   "metadata": {
    "papermill": {
     "duration": 0.028161,
     "end_time": "2022-09-09T20:35:33.785107",
     "exception": false,
     "start_time": "2022-09-09T20:35:33.756946",
     "status": "completed"
    },
    "tags": []
   },
   "source": [
    "### **Step - 5.3 :** Embedding Layer Creation"
   ]
  },
  {
   "cell_type": "code",
   "execution_count": 40,
   "id": "55f50ba3",
   "metadata": {
    "execution": {
     "iopub.execute_input": "2022-09-09T20:35:33.841737Z",
     "iopub.status.busy": "2022-09-09T20:35:33.841398Z",
     "iopub.status.idle": "2022-09-09T20:35:33.941819Z",
     "shell.execute_reply": "2022-09-09T20:35:33.940884Z"
    },
    "papermill": {
     "duration": 0.131174,
     "end_time": "2022-09-09T20:35:33.943474",
     "exception": false,
     "start_time": "2022-09-09T20:35:33.812300",
     "status": "completed"
    },
    "tags": []
   },
   "outputs": [
    {
     "name": "stdout",
     "output_type": "stream",
     "text": [
      "(70297, 300)\n"
     ]
    }
   ],
   "source": [
    "embedding_matrix = np.zeros((vocab_size, W2V_SIZE))\n",
    "for word, i in tokenizer.word_index.items():\n",
    "  if word in w2v_model.wv:\n",
    "    embedding_matrix[i] = w2v_model.wv[word]\n",
    "print(embedding_matrix.shape)"
   ]
  },
  {
   "cell_type": "code",
   "execution_count": 41,
   "id": "913545d3",
   "metadata": {
    "execution": {
     "iopub.execute_input": "2022-09-09T20:35:33.999326Z",
     "iopub.status.busy": "2022-09-09T20:35:33.998461Z",
     "iopub.status.idle": "2022-09-09T20:35:34.028477Z",
     "shell.execute_reply": "2022-09-09T20:35:34.027488Z"
    },
    "papermill": {
     "duration": 0.060901,
     "end_time": "2022-09-09T20:35:34.030535",
     "exception": false,
     "start_time": "2022-09-09T20:35:33.969634",
     "status": "completed"
    },
    "tags": []
   },
   "outputs": [],
   "source": [
    "embedding_layer = Embedding(vocab_size, W2V_SIZE, weights=[embedding_matrix], input_length=SEQUENCE_LENGTH, trainable=False)"
   ]
  },
  {
   "cell_type": "markdown",
   "id": "31648a25",
   "metadata": {
    "papermill": {
     "duration": 0.027487,
     "end_time": "2022-09-09T20:35:34.085674",
     "exception": false,
     "start_time": "2022-09-09T20:35:34.058187",
     "status": "completed"
    },
    "tags": []
   },
   "source": [
    "### **Step - 5.4 :** Model Creation - LSTM"
   ]
  },
  {
   "cell_type": "code",
   "execution_count": 42,
   "id": "4a71f515",
   "metadata": {
    "execution": {
     "iopub.execute_input": "2022-09-09T20:35:34.140219Z",
     "iopub.status.busy": "2022-09-09T20:35:34.139599Z",
     "iopub.status.idle": "2022-09-09T20:35:34.568447Z",
     "shell.execute_reply": "2022-09-09T20:35:34.567542Z"
    },
    "papermill": {
     "duration": 0.458633,
     "end_time": "2022-09-09T20:35:34.570753",
     "exception": false,
     "start_time": "2022-09-09T20:35:34.112120",
     "status": "completed"
    },
    "tags": []
   },
   "outputs": [
    {
     "name": "stderr",
     "output_type": "stream",
     "text": [
      "2022-09-09 20:35:34.157329: I tensorflow/core/common_runtime/process_util.cc:146] Creating new thread pool with default inter op setting: 2. Tune using inter_op_parallelism_threads for best performance.\n"
     ]
    },
    {
     "name": "stdout",
     "output_type": "stream",
     "text": [
      "Model: \"sequential\"\n",
      "_________________________________________________________________\n",
      "Layer (type)                 Output Shape              Param #   \n",
      "=================================================================\n",
      "embedding (Embedding)        (None, 300, 300)          21089100  \n",
      "_________________________________________________________________\n",
      "dropout (Dropout)            (None, 300, 300)          0         \n",
      "_________________________________________________________________\n",
      "lstm (LSTM)                  (None, 100)               160400    \n",
      "_________________________________________________________________\n",
      "dense (Dense)                (None, 1)                 101       \n",
      "=================================================================\n",
      "Total params: 21,249,601\n",
      "Trainable params: 160,501\n",
      "Non-trainable params: 21,089,100\n",
      "_________________________________________________________________\n"
     ]
    }
   ],
   "source": [
    "model = Sequential()\n",
    "model.add(embedding_layer)\n",
    "model.add(Dropout(0.5))\n",
    "model.add(LSTM(100, dropout=0.2, recurrent_dropout=0.2))\n",
    "model.add(Dense(1, activation='sigmoid'))\n",
    "\n",
    "model.summary()"
   ]
  },
  {
   "cell_type": "markdown",
   "id": "ae556bb5",
   "metadata": {
    "papermill": {
     "duration": 0.026978,
     "end_time": "2022-09-09T20:35:34.626627",
     "exception": false,
     "start_time": "2022-09-09T20:35:34.599649",
     "status": "completed"
    },
    "tags": []
   },
   "source": [
    "### **Step - 5.5 :** Compiling Model"
   ]
  },
  {
   "cell_type": "code",
   "execution_count": 43,
   "id": "ee71683f",
   "metadata": {
    "execution": {
     "iopub.execute_input": "2022-09-09T20:35:34.682383Z",
     "iopub.status.busy": "2022-09-09T20:35:34.681513Z",
     "iopub.status.idle": "2022-09-09T20:35:34.695160Z",
     "shell.execute_reply": "2022-09-09T20:35:34.694100Z"
    },
    "papermill": {
     "duration": 0.044085,
     "end_time": "2022-09-09T20:35:34.697342",
     "exception": false,
     "start_time": "2022-09-09T20:35:34.653257",
     "status": "completed"
    },
    "tags": []
   },
   "outputs": [],
   "source": [
    "model.compile(loss='binary_crossentropy',\n",
    "              optimizer=\"adam\",\n",
    "              metrics=['accuracy'])"
   ]
  },
  {
   "cell_type": "markdown",
   "id": "331af6b9",
   "metadata": {
    "papermill": {
     "duration": 0.026692,
     "end_time": "2022-09-09T20:35:34.751035",
     "exception": false,
     "start_time": "2022-09-09T20:35:34.724343",
     "status": "completed"
    },
    "tags": []
   },
   "source": [
    "### **Step - 5.6 :** Callback Creation"
   ]
  },
  {
   "cell_type": "code",
   "execution_count": 44,
   "id": "caae0337",
   "metadata": {
    "execution": {
     "iopub.execute_input": "2022-09-09T20:35:34.806315Z",
     "iopub.status.busy": "2022-09-09T20:35:34.805816Z",
     "iopub.status.idle": "2022-09-09T20:35:34.810092Z",
     "shell.execute_reply": "2022-09-09T20:35:34.809385Z"
    },
    "papermill": {
     "duration": 0.033511,
     "end_time": "2022-09-09T20:35:34.811789",
     "exception": false,
     "start_time": "2022-09-09T20:35:34.778278",
     "status": "completed"
    },
    "tags": []
   },
   "outputs": [],
   "source": [
    "callbacks = [ ReduceLROnPlateau(monitor='val_loss', patience=5, cooldown=0),\n",
    "              EarlyStopping(monitor='val_acc', min_delta=1e-4, patience=5)]"
   ]
  },
  {
   "cell_type": "markdown",
   "id": "bc82a690",
   "metadata": {
    "papermill": {
     "duration": 0.02653,
     "end_time": "2022-09-09T20:35:34.864395",
     "exception": false,
     "start_time": "2022-09-09T20:35:34.837865",
     "status": "completed"
    },
    "tags": []
   },
   "source": [
    "### **Step - 5.7 :** Model Training "
   ]
  },
  {
   "cell_type": "code",
   "execution_count": 45,
   "id": "9fba0a18",
   "metadata": {
    "execution": {
     "iopub.execute_input": "2022-09-09T20:35:34.920902Z",
     "iopub.status.busy": "2022-09-09T20:35:34.920412Z",
     "iopub.status.idle": "2022-09-09T22:05:39.707606Z",
     "shell.execute_reply": "2022-09-09T22:05:39.705931Z"
    },
    "papermill": {
     "duration": 5404.874936,
     "end_time": "2022-09-09T22:05:39.766172",
     "exception": false,
     "start_time": "2022-09-09T20:35:34.891236",
     "status": "completed"
    },
    "tags": []
   },
   "outputs": [
    {
     "name": "stderr",
     "output_type": "stream",
     "text": [
      "2022-09-09 20:35:34.989033: I tensorflow/compiler/mlir/mlir_graph_optimization_pass.cc:185] None of the MLIR Optimization Passes are enabled (registered 2)\n"
     ]
    },
    {
     "name": "stdout",
     "output_type": "stream",
     "text": [
      "Epoch 1/8\n",
      "76/76 [==============================] - 682s 9s/step - loss: 0.5846 - accuracy: 0.6830 - val_loss: 0.4888 - val_accuracy: 0.7563\n",
      "Epoch 2/8\n",
      "76/76 [==============================] - 677s 9s/step - loss: 0.5114 - accuracy: 0.7396 - val_loss: 0.4408 - val_accuracy: 0.8037\n",
      "Epoch 3/8\n",
      "76/76 [==============================] - 678s 9s/step - loss: 0.4824 - accuracy: 0.7603 - val_loss: 0.4124 - val_accuracy: 0.8134\n",
      "Epoch 4/8\n",
      "76/76 [==============================] - 676s 9s/step - loss: 0.4510 - accuracy: 0.7822 - val_loss: 0.3966 - val_accuracy: 0.8284\n",
      "Epoch 5/8\n",
      "76/76 [==============================] - 665s 9s/step - loss: 0.4303 - accuracy: 0.7962 - val_loss: 0.3861 - val_accuracy: 0.8303\n",
      "Epoch 6/8\n",
      "76/76 [==============================] - 667s 9s/step - loss: 0.4151 - accuracy: 0.8058 - val_loss: 0.3745 - val_accuracy: 0.8368\n",
      "Epoch 7/8\n",
      "76/76 [==============================] - 685s 9s/step - loss: 0.4033 - accuracy: 0.8143 - val_loss: 0.3684 - val_accuracy: 0.8441\n",
      "Epoch 8/8\n",
      "76/76 [==============================] - 676s 9s/step - loss: 0.3938 - accuracy: 0.8188 - val_loss: 0.3587 - val_accuracy: 0.8469\n",
      "CPU times: user 4h 16min 35s, sys: 18min 13s, total: 4h 34min 48s\n",
      "Wall time: 1h 30min 4s\n"
     ]
    }
   ],
   "source": [
    "%%time\n",
    "history = model.fit(x_train, y_train,\n",
    "                    batch_size=BATCH_SIZE,\n",
    "                    epochs=EPOCHS,\n",
    "                    validation_split=0.1,\n",
    "                    verbose=1,\n",
    "                    callbacks=callbacks)"
   ]
  },
  {
   "cell_type": "markdown",
   "id": "888f5485",
   "metadata": {
    "papermill": {
     "duration": 0.063009,
     "end_time": "2022-09-09T22:05:39.892374",
     "exception": false,
     "start_time": "2022-09-09T22:05:39.829365",
     "status": "completed"
    },
    "tags": []
   },
   "source": [
    "### **Step - 5.8 :** Model Evaluation "
   ]
  },
  {
   "cell_type": "code",
   "execution_count": 46,
   "id": "a8d3186c",
   "metadata": {
    "execution": {
     "iopub.execute_input": "2022-09-09T22:05:40.019824Z",
     "iopub.status.busy": "2022-09-09T22:05:40.019431Z",
     "iopub.status.idle": "2022-09-09T22:06:26.294737Z",
     "shell.execute_reply": "2022-09-09T22:06:26.292580Z"
    },
    "papermill": {
     "duration": 46.344065,
     "end_time": "2022-09-09T22:06:26.297322",
     "exception": false,
     "start_time": "2022-09-09T22:05:39.953257",
     "status": "completed"
    },
    "tags": []
   },
   "outputs": [
    {
     "name": "stdout",
     "output_type": "stream",
     "text": [
      "22/22 [==============================] - 46s 2s/step - loss: 0.3565 - accuracy: 0.8500\n",
      "\n",
      "ACCURACY: 0.8500370979309082\n",
      "LOSS: 0.3564917743206024\n",
      "CPU times: user 2min 12s, sys: 13.1 s, total: 2min 25s\n",
      "Wall time: 46.3 s\n"
     ]
    }
   ],
   "source": [
    "%%time\n",
    "score = model.evaluate(x_test, y_test, batch_size=BATCH_SIZE)\n",
    "print()\n",
    "print(\"ACCURACY:\",score[1])\n",
    "print(\"LOSS:\",score[0])"
   ]
  },
  {
   "cell_type": "code",
   "execution_count": 47,
   "id": "38cbd93f",
   "metadata": {
    "execution": {
     "iopub.execute_input": "2022-09-09T22:06:26.421840Z",
     "iopub.status.busy": "2022-09-09T22:06:26.421511Z",
     "iopub.status.idle": "2022-09-09T22:06:26.771137Z",
     "shell.execute_reply": "2022-09-09T22:06:26.769292Z"
    },
    "papermill": {
     "duration": 0.415686,
     "end_time": "2022-09-09T22:06:26.774075",
     "exception": false,
     "start_time": "2022-09-09T22:06:26.358389",
     "status": "completed"
    },
    "tags": []
   },
   "outputs": [
    {
     "data": {
      "image/png": "[encoded data removed]",
      "text/plain": [
       "<Figure size 432x288 with 1 Axes>"
      ]
     },
     "metadata": {},
     "output_type": "display_data"
    },
    {
     "data": {
      "image/png": "[encoded data removed]",
      "text/plain": [
       "<Figure size 432x288 with 1 Axes>"
      ]
     },
     "metadata": {},
     "output_type": "display_data"
    }
   ],
   "source": [
    "acc = history.history['accuracy']\n",
    "val_acc = history.history['val_accuracy']\n",
    "loss = history.history['loss']\n",
    "val_loss = history.history['val_loss']\n",
    " \n",
    "epochs = range(len(acc))\n",
    " \n",
    "plt.plot(epochs, acc, 'b', label='Training acc')\n",
    "plt.plot(epochs, val_acc, 'r', label='Validation acc')\n",
    "plt.title('Training and validation accuracy')\n",
    "plt.legend()\n",
    " \n",
    "plt.figure()\n",
    " \n",
    "plt.plot(epochs, loss, 'b', label='Training loss')\n",
    "plt.plot(epochs, val_loss, 'r', label='Validation loss')\n",
    "plt.title('Training and validation loss')\n",
    "plt.legend()\n",
    " \n",
    "plt.show()"
   ]
  },
  {
   "cell_type": "markdown",
   "id": "80af4cfa",
   "metadata": {
    "papermill": {
     "duration": 0.060552,
     "end_time": "2022-09-09T22:06:26.897992",
     "exception": false,
     "start_time": "2022-09-09T22:06:26.837440",
     "status": "completed"
    },
    "tags": []
   },
   "source": [
    "### **Step - 5.9 :** Prediction using Model "
   ]
  },
  {
   "cell_type": "code",
   "execution_count": 48,
   "id": "6c8f8273",
   "metadata": {
    "execution": {
     "iopub.execute_input": "2022-09-09T22:06:27.026178Z",
     "iopub.status.busy": "2022-09-09T22:06:27.025150Z",
     "iopub.status.idle": "2022-09-09T22:06:27.032290Z",
     "shell.execute_reply": "2022-09-09T22:06:27.030710Z"
    },
    "papermill": {
     "duration": 0.074966,
     "end_time": "2022-09-09T22:06:27.034834",
     "exception": false,
     "start_time": "2022-09-09T22:06:26.959868",
     "status": "completed"
    },
    "tags": []
   },
   "outputs": [],
   "source": [
    "def decode_sentiment(score, include_neutral=True):\n",
    "    if include_neutral:        \n",
    "        label = NEUTRAL ### Whatever not coming in negative and positive sentiments has been considered as neutral\n",
    "        if score <= SENTIMENT_THRESHOLDS[0]:\n",
    "            label = NEGATIVE\n",
    "        elif score >= SENTIMENT_THRESHOLDS[1]:\n",
    "            label = POSITIVE\n",
    "\n",
    "        return label\n",
    "    else:\n",
    "        return NEGATIVE if score < 0.5 else POSITIVE"
   ]
  },
  {
   "cell_type": "code",
   "execution_count": 49,
   "id": "a3559216",
   "metadata": {
    "execution": {
     "iopub.execute_input": "2022-09-09T22:06:27.163604Z",
     "iopub.status.busy": "2022-09-09T22:06:27.163054Z",
     "iopub.status.idle": "2022-09-09T22:06:27.168637Z",
     "shell.execute_reply": "2022-09-09T22:06:27.167596Z"
    },
    "papermill": {
     "duration": 0.071934,
     "end_time": "2022-09-09T22:06:27.171105",
     "exception": false,
     "start_time": "2022-09-09T22:06:27.099171",
     "status": "completed"
    },
    "tags": []
   },
   "outputs": [],
   "source": [
    "def predict(clean_text, include_neutral=True):\n",
    "    start_at = time.time()\n",
    "    # Tokenize clean_text\n",
    "    x_test = pad_sequences(tokenizer.texts_to_sequences([clean_text]), maxlen=SEQUENCE_LENGTH)\n",
    "    # Predict\n",
    "    score = model.predict([x_test])[0]\n",
    "    # Decode sentiment\n",
    "    label = decode_sentiment(score, include_neutral=include_neutral)\n",
    "\n",
    "    return {\"label\": label, \"score\": float(score),\n",
    "       \"elapsed_time\": time.time()-start_at}  "
   ]
  },
  {
   "cell_type": "code",
   "execution_count": 50,
   "id": "87206056",
   "metadata": {
    "execution": {
     "iopub.execute_input": "2022-09-09T22:06:27.300857Z",
     "iopub.status.busy": "2022-09-09T22:06:27.300320Z",
     "iopub.status.idle": "2022-09-09T22:06:27.828558Z",
     "shell.execute_reply": "2022-09-09T22:06:27.827384Z"
    },
    "papermill": {
     "duration": 0.595484,
     "end_time": "2022-09-09T22:06:27.830616",
     "exception": false,
     "start_time": "2022-09-09T22:06:27.235132",
     "status": "completed"
    },
    "tags": []
   },
   "outputs": [
    {
     "data": {
      "text/plain": [
       "{'label': 'POSITIVE',\n",
       " 'score': 0.9900519847869873,\n",
       " 'elapsed_time': 0.5215010643005371}"
      ]
     },
     "execution_count": 50,
     "metadata": {},
     "output_type": "execute_result"
    }
   ],
   "source": [
    "predict(\"I love the music\")"
   ]
  },
  {
   "cell_type": "code",
   "execution_count": 51,
   "id": "6b629414",
   "metadata": {
    "execution": {
     "iopub.execute_input": "2022-09-09T22:06:27.963302Z",
     "iopub.status.busy": "2022-09-09T22:06:27.962717Z",
     "iopub.status.idle": "2022-09-09T22:06:28.248269Z",
     "shell.execute_reply": "2022-09-09T22:06:28.247184Z"
    },
    "papermill": {
     "duration": 0.355829,
     "end_time": "2022-09-09T22:06:28.250611",
     "exception": false,
     "start_time": "2022-09-09T22:06:27.894782",
     "status": "completed"
    },
    "tags": []
   },
   "outputs": [
    {
     "data": {
      "text/plain": [
       "{'label': 'NEUTRAL',\n",
       " 'score': 0.5107656121253967,\n",
       " 'elapsed_time': 0.2791745662689209}"
      ]
     },
     "execution_count": 51,
     "metadata": {},
     "output_type": "execute_result"
    }
   ],
   "source": [
    "predict(\"I have nothing to lose\")"
   ]
  },
  {
   "cell_type": "code",
   "execution_count": 52,
   "id": "6b585f2f",
   "metadata": {
    "execution": {
     "iopub.execute_input": "2022-09-09T22:06:28.390112Z",
     "iopub.status.busy": "2022-09-09T22:06:28.389696Z",
     "iopub.status.idle": "2022-09-09T22:06:28.668600Z",
     "shell.execute_reply": "2022-09-09T22:06:28.666932Z"
    },
    "papermill": {
     "duration": 0.353257,
     "end_time": "2022-09-09T22:06:28.671676",
     "exception": false,
     "start_time": "2022-09-09T22:06:28.318419",
     "status": "completed"
    },
    "tags": []
   },
   "outputs": [
    {
     "data": {
      "text/plain": [
       "{'label': 'NEGATIVE',\n",
       " 'score': 0.0340648889541626,\n",
       " 'elapsed_time': 0.27196311950683594}"
      ]
     },
     "execution_count": 52,
     "metadata": {},
     "output_type": "execute_result"
    }
   ],
   "source": [
    "predict(\"Experience has been bad\")"
   ]
  },
  {
   "cell_type": "markdown",
   "id": "9ee74fe6",
   "metadata": {
    "papermill": {
     "duration": 0.062827,
     "end_time": "2022-09-09T22:06:28.798116",
     "exception": false,
     "start_time": "2022-09-09T22:06:28.735289",
     "status": "completed"
    },
    "tags": []
   },
   "source": [
    "### **Step - 5.10 :** Creating Confusion Matrix "
   ]
  },
  {
   "cell_type": "code",
   "execution_count": 53,
   "id": "3ea308da",
   "metadata": {
    "execution": {
     "iopub.execute_input": "2022-09-09T22:06:28.924168Z",
     "iopub.status.busy": "2022-09-09T22:06:28.923562Z",
     "iopub.status.idle": "2022-09-09T22:07:03.258797Z",
     "shell.execute_reply": "2022-09-09T22:07:03.257138Z"
    },
    "papermill": {
     "duration": 34.423391,
     "end_time": "2022-09-09T22:07:03.282955",
     "exception": false,
     "start_time": "2022-09-09T22:06:28.859564",
     "status": "completed"
    },
    "tags": []
   },
   "outputs": [
    {
     "name": "stdout",
     "output_type": "stream",
     "text": [
      "3/3 [==============================] - 34s 10s/step\n",
      "CPU times: user 1min 46s, sys: 10.5 s, total: 1min 57s\n",
      "Wall time: 34.3 s\n"
     ]
    }
   ],
   "source": [
    "%%time\n",
    "y_pred_1d = []\n",
    "y_test_1d = list(df_test.category)\n",
    "scores = model.predict(x_test, verbose=1, batch_size=8000)\n",
    "y_pred_1d = [decode_sentiment(score, include_neutral=False) for score in scores]"
   ]
  },
  {
   "cell_type": "code",
   "execution_count": 54,
   "id": "ccf98f0e",
   "metadata": {
    "execution": {
     "iopub.execute_input": "2022-09-09T22:07:03.412941Z",
     "iopub.status.busy": "2022-09-09T22:07:03.411814Z",
     "iopub.status.idle": "2022-09-09T22:07:03.420950Z",
     "shell.execute_reply": "2022-09-09T22:07:03.419905Z"
    },
    "papermill": {
     "duration": 0.075827,
     "end_time": "2022-09-09T22:07:03.423088",
     "exception": false,
     "start_time": "2022-09-09T22:07:03.347261",
     "status": "completed"
    },
    "tags": []
   },
   "outputs": [],
   "source": [
    "def plot_confusion_matrix(cm, classes,\n",
    "                          title='Confusion matrix',\n",
    "                          cmap=plt.cm.Blues):\n",
    "    \"\"\"\n",
    "    This function prints and plots the confusion matrix.\n",
    "    Normalization can be applied by setting `normalize=True`.\n",
    "    \"\"\"\n",
    "\n",
    "    cm = cm.astype('float') / cm.sum(axis=1)[:, np.newaxis]\n",
    "\n",
    "    plt.imshow(cm, interpolation='nearest', cmap=cmap)\n",
    "    plt.title(title, fontsize=30)\n",
    "    plt.colorbar()\n",
    "    tick_marks = np.arange(len(classes))\n",
    "    plt.xticks(tick_marks, classes, rotation=90, fontsize=22)\n",
    "    plt.yticks(tick_marks, classes, fontsize=22)\n",
    "\n",
    "    fmt = '.2f'\n",
    "    thresh = cm.max() / 2.\n",
    "    for i, j in itertools.product(range(cm.shape[0]), range(cm.shape[1])):\n",
    "        plt.text(j, i, format(cm[i, j], fmt),\n",
    "                 horizontalalignment=\"center\",\n",
    "                 color=\"white\" if cm[i, j] > thresh else \"black\")\n",
    "\n",
    "    plt.ylabel('True label', fontsize=25)\n",
    "    plt.xlabel('Predicted label', fontsize=25)"
   ]
  },
  {
   "cell_type": "code",
   "execution_count": 55,
   "id": "9647e8a0",
   "metadata": {
    "execution": {
     "iopub.execute_input": "2022-09-09T22:07:03.559503Z",
     "iopub.status.busy": "2022-09-09T22:07:03.558777Z",
     "iopub.status.idle": "2022-09-09T22:07:03.902468Z",
     "shell.execute_reply": "2022-09-09T22:07:03.901494Z"
    },
    "papermill": {
     "duration": 0.418908,
     "end_time": "2022-09-09T22:07:03.904830",
     "exception": false,
     "start_time": "2022-09-09T22:07:03.485922",
     "status": "completed"
    },
    "tags": []
   },
   "outputs": [
    {
     "data": {
      "image/png": "[encoded data removed]",
      "text/plain": [
       "<Figure size 864x864 with 2 Axes>"
      ]
     },
     "metadata": {},
     "output_type": "display_data"
    },
    {
     "name": "stdout",
     "output_type": "stream",
     "text": [
      "CPU times: user 336 ms, sys: 236 ms, total: 572 ms\n",
      "Wall time: 337 ms\n"
     ]
    }
   ],
   "source": [
    "%%time\n",
    "\n",
    "cnf_matrix = confusion_matrix(y_test_1d, y_pred_1d)\n",
    "plt.figure(figsize=(12,12))\n",
    "plot_confusion_matrix(cnf_matrix, classes=df_train.category.unique(), title=\"Confusion matrix\")\n",
    "plt.show()"
   ]
  },
  {
   "cell_type": "markdown",
   "id": "ce8a1f3f",
   "metadata": {
    "papermill": {
     "duration": 0.069126,
     "end_time": "2022-09-09T22:07:04.041353",
     "exception": false,
     "start_time": "2022-09-09T22:07:03.972227",
     "status": "completed"
    },
    "tags": []
   },
   "source": [
    "### **Step - 5.11 :** Classification Report "
   ]
  },
  {
   "cell_type": "code",
   "execution_count": 56,
   "id": "54e1384d",
   "metadata": {
    "execution": {
     "iopub.execute_input": "2022-09-09T22:07:04.176343Z",
     "iopub.status.busy": "2022-09-09T22:07:04.175575Z",
     "iopub.status.idle": "2022-09-09T22:07:04.440343Z",
     "shell.execute_reply": "2022-09-09T22:07:04.439646Z"
    },
    "papermill": {
     "duration": 0.336361,
     "end_time": "2022-09-09T22:07:04.442919",
     "exception": false,
     "start_time": "2022-09-09T22:07:04.106558",
     "status": "completed"
    },
    "tags": []
   },
   "outputs": [
    {
     "name": "stdout",
     "output_type": "stream",
     "text": [
      "              precision    recall  f1-score   support\n",
      "\n",
      "    NEGATIVE       0.85      0.65      0.74      7026\n",
      "    POSITIVE       0.85      0.94      0.89     14526\n",
      "\n",
      "    accuracy                           0.85     21552\n",
      "   macro avg       0.85      0.80      0.82     21552\n",
      "weighted avg       0.85      0.85      0.84     21552\n",
      "\n"
     ]
    }
   ],
   "source": [
    "print(classification_report(y_test_1d, y_pred_1d))"
   ]
  },
  {
   "cell_type": "markdown",
   "id": "7dbc9ee4",
   "metadata": {
    "papermill": {
     "duration": 0.070103,
     "end_time": "2022-09-09T22:07:04.582374",
     "exception": false,
     "start_time": "2022-09-09T22:07:04.512271",
     "status": "completed"
    },
    "tags": []
   },
   "source": [
    "### **Step - 5.12 :** Accuracy Score "
   ]
  },
  {
   "cell_type": "code",
   "execution_count": 57,
   "id": "aa9e8c1d",
   "metadata": {
    "execution": {
     "iopub.execute_input": "2022-09-09T22:07:04.722131Z",
     "iopub.status.busy": "2022-09-09T22:07:04.721450Z",
     "iopub.status.idle": "2022-09-09T22:07:04.754672Z",
     "shell.execute_reply": "2022-09-09T22:07:04.754055Z"
    },
    "papermill": {
     "duration": 0.105614,
     "end_time": "2022-09-09T22:07:04.756417",
     "exception": false,
     "start_time": "2022-09-09T22:07:04.650803",
     "status": "completed"
    },
    "tags": []
   },
   "outputs": [
    {
     "data": {
      "text/plain": [
       "0.85003711952487"
      ]
     },
     "execution_count": 57,
     "metadata": {},
     "output_type": "execute_result"
    }
   ],
   "source": [
    "accuracy_score(y_test_1d, y_pred_1d)"
   ]
  },
  {
   "cell_type": "markdown",
   "id": "b7434ec3",
   "metadata": {
    "papermill": {
     "duration": 0.06254,
     "end_time": "2022-09-09T22:07:04.882303",
     "exception": false,
     "start_time": "2022-09-09T22:07:04.819763",
     "status": "completed"
    },
    "tags": []
   },
   "source": [
    "### **Step - 5.13 :** Saving Model for future use "
   ]
  },
  {
   "cell_type": "code",
   "execution_count": 58,
   "id": "2cd020d2",
   "metadata": {
    "execution": {
     "iopub.execute_input": "2022-09-09T22:07:05.013713Z",
     "iopub.status.busy": "2022-09-09T22:07:05.013130Z",
     "iopub.status.idle": "2022-09-09T22:07:05.425927Z",
     "shell.execute_reply": "2022-09-09T22:07:05.424024Z"
    },
    "papermill": {
     "duration": 0.480832,
     "end_time": "2022-09-09T22:07:05.428809",
     "exception": false,
     "start_time": "2022-09-09T22:07:04.947977",
     "status": "completed"
    },
    "tags": []
   },
   "outputs": [],
   "source": [
    "model.save(KERAS_MODEL)\n",
    "w2v_model.save(WORD2VEC_MODEL)\n",
    "pickle.dump(tokenizer, open(TOKENIZER_MODEL, \"wb\"), protocol=0)\n",
    "pickle.dump(encoder, open(ENCODER_MODEL, \"wb\"), protocol=0)"
   ]
  },
  {
   "cell_type": "markdown",
   "id": "370f897d",
   "metadata": {
    "papermill": {
     "duration": 0.065007,
     "end_time": "2022-09-09T22:07:05.560365",
     "exception": false,
     "start_time": "2022-09-09T22:07:05.495358",
     "status": "completed"
    },
    "tags": []
   },
   "source": [
    "## **References:**"
   ]
  },
  {
   "cell_type": "markdown",
   "id": "00eae184",
   "metadata": {
    "papermill": {
     "duration": 0.065812,
     "end_time": "2022-09-09T22:07:05.695563",
     "exception": false,
     "start_time": "2022-09-09T22:07:05.629751",
     "status": "completed"
    },
    "tags": []
   },
   "source": [
    "* **LSTM Overview** : [**Link**](https://www.analyticsvidhya.com/blog/2022/03/an-overview-on-long-short-term-memory-lstm/)\n",
    "* **Code Optimisation Techniques** : [**Link**](https://www.geeksforgeeks.org/optimization-tips-python-code/)"
   ]
  }
 ],
 "metadata": {
  "kernelspec": {
   "display_name": "Python 3",
   "language": "python",
   "name": "python3"
  },
  "language_info": {
   "codemirror_mode": {
    "name": "ipython",
    "version": 3
   },
   "file_extension": ".py",
   "mimetype": "text/x-python",
   "name": "python",
   "nbconvert_exporter": "python",
   "pygments_lexer": "ipython3",
   "version": "3.7.12"
  },
  "papermill": {
   "default_parameters": {},
   "duration": 5723.060248,
   "end_time": "2022-09-09T22:07:08.895055",
   "environment_variables": {},
   "exception": null,
   "input_path": "__notebook__.ipynb",
   "output_path": "__notebook__.ipynb",
   "parameters": {},
   "start_time": "2022-09-09T20:31:45.834807",
   "version": "2.3.4"
  }
 },
 "nbformat": 4,
 "nbformat_minor": 5
}
